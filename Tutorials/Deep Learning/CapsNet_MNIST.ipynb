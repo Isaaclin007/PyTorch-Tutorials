{
  "nbformat": 4,
  "nbformat_minor": 0,
  "metadata": {
    "colab": {
      "name": "CapsNet-MNIST.ipynb",
      "provenance": [],
      "collapsed_sections": []
    },
    "kernelspec": {
      "name": "python3",
      "display_name": "Python 3"
    },
    "accelerator": "GPU"
  },
  "cells": [
    {
      "cell_type": "markdown",
      "metadata": {
        "id": "QFE7Ywt3T74J",
        "colab_type": "text"
      },
      "source": [
        "<center><h1> Capsule Networks for Digit Recognition in PyTorch</h1></center>\n"
      ]
    },
    {
      "cell_type": "markdown",
      "metadata": {
        "id": "mMojBAyvUIQy",
        "colab_type": "text"
      },
      "source": [
        "We are going to implement the Capsule Network from Prof. Hinton's paper on [Dynamic Routing Between Capsules](https://arxiv.org/pdf/1710.09829.pdf). The network consists of the novel Primary and Digit Caps Layers which perform nested convolutions. Dynamic routing, or more specifically Routing by Agreement, takes place in the Digit Caps Capsule Layer which we will discuss in more detail. So let's get started and begin with or standard imports from the PyTorch module. "
      ]
    },
    {
      "cell_type": "markdown",
      "metadata": {
        "id": "lkLj5BF5VsnD",
        "colab_type": "text"
      },
      "source": [
        "## 1. Import Dependencies"
      ]
    },
    {
      "cell_type": "code",
      "metadata": {
        "id": "A4a6LqqHT34G",
        "colab_type": "code",
        "colab": {}
      },
      "source": [
        "#Import dependencies\n",
        "from __future__ import print_function\n",
        "import torch\n",
        "import torch.nn as nn\n",
        "import torch.nn.functional as F\n",
        "import math\n",
        "from torch.optim import lr_scheduler\n",
        "from torch.autograd import Variable\n",
        "import matplotlib.pyplot as plt\n",
        "\n",
        "#Use GPU\n",
        "use_cuda = torch.cuda.is_available()\n",
        "device = torch.device('cuda' if use_cuda else 'cpu')"
      ],
      "execution_count": 0,
      "outputs": []
    },
    {
      "cell_type": "markdown",
      "metadata": {
        "id": "1c1M3OLTVrS7",
        "colab_type": "text"
      },
      "source": [
        "## 2. Define the Squash Function\n",
        "\n",
        "Caspule layers make use of a different squashing non-linearity than softmax and sigmoid. This function is called the squash function. This enables us to represent the length of the outut vector from the capsule as a probability. This probability indicates the presence of entity represented by capsule in the input. The squashing function can be mathematically expressed as-\n",
        "\n",
        "<center> $v_{j} = \\frac{||s_{j}^{2}||}{||1 + s_{j}^{2}||} \\frac{s_{j}}{||s_{j}||}$</center>\n",
        "\n",
        "Here, $v_{j}$ is the vector output from the capsule and $s_{j}$ is its total input. For all but the first layer capsules, The total input is the weighted sum of all the prediction vectors $\\hat{u}_{j|i}$ from all the capsule layers in the layer below. This can be mathematically expressed as-\n",
        "<center>$s_{j} = \\sum_{i}c_{ij}\\hat{u}_{j|i}$</center>\n",
        "\n",
        "\n"
      ]
    },
    {
      "cell_type": "code",
      "metadata": {
        "id": "7_nc5SacXYo0",
        "colab_type": "code",
        "colab": {}
      },
      "source": [
        "def squash(x):\n",
        "    lengths2 = x.pow(2).sum(dim=2)\n",
        "    lengths = lengths2.sqrt()\n",
        "    x = x * (lengths2 / (1 + lengths2) / lengths).view(x.size(0), x.size(1), 1)\n",
        "    return x"
      ],
      "execution_count": 0,
      "outputs": []
    },
    {
      "cell_type": "markdown",
      "metadata": {
        "id": "w0lnE9H3YWjN",
        "colab_type": "text"
      },
      "source": [
        "## 3. Routing Mechanism"
      ]
    },
    {
      "cell_type": "markdown",
      "metadata": {
        "id": "EGa5APeuYcBd",
        "colab_type": "text"
      },
      "source": [
        "The dynamic routing mechanism is implemented between capsule layers and works on the basis of routing softmax, whose inputs are initial logits $b_{ij}$. These are the log probabilities that capsule i should be coupled to capsule j. \n",
        "\n",
        "<center>$ c_{ij} = \\frac{exp(b_{ij})}{\\sum_{k}exp(b_{ik})}$</center>\n",
        "\n",
        "Now, the agreement between two capsule layers is simply defined as $a_{ij} = v_{j}.\\hat{u}_{j|i}$. This agreement is treated as if it was a log\n",
        "likelihood and is added to the initial logit, $b_{ij}$ before computing the new values for all the coupling coefficients linking capsule i to higher level capsules.\n",
        "\n",
        "In convolutional capsule layers, each capsule outputs a local grid of vectors to each type of capsule in the layer above using different transformation matrices for each member of the grid as well as for\n",
        "each type of capsule.\n",
        "\n",
        "The main idea here is that the iterative process is repeated for a fixed number of times. Once the capsule j corresponding to capsule i is determined with maximum agreement, information is passed to capsule j. In order to understand the algorithm completely, you are encouraged to read the paper. "
      ]
    },
    {
      "cell_type": "code",
      "metadata": {
        "id": "FE3tDzA-YVx5",
        "colab_type": "code",
        "colab": {}
      },
      "source": [
        "class AgreementRouting(nn.Module):\n",
        "    def __init__(self, input_caps, output_caps, n_iterations):\n",
        "        super(AgreementRouting, self).__init__()\n",
        "        self.n_iterations = n_iterations\n",
        "        self.b = nn.Parameter(torch.zeros((input_caps, output_caps)))\n",
        "    \n",
        "    def forward(self, u_predict):\n",
        "        batch_size, input_caps, output_caps, output_dim = u_predict.size()\n",
        "\n",
        "        c = F.softmax(self.b) #softmax routing\n",
        "        s = (c.unsqueeze(2) * u_predict).sum(dim=1)\n",
        "        v = squash(s)\n",
        "\n",
        "        #iterate over capsules for a fixed number of iterations\n",
        "        if self.n_iterations > 0:\n",
        "            b_batch = self.b.expand((batch_size, input_caps, output_caps))\n",
        "            for r in range(self.n_iterations):\n",
        "                v = v.unsqueeze(1)\n",
        "                b_batch = b_batch + (u_predict * v).sum(-1)\n",
        "\n",
        "                c = F.softmax(b_batch.view(-1, output_caps)).view(-1, input_caps, output_caps, 1)\n",
        "                s = (c * u_predict).sum(dim=1)\n",
        "                v = squash(s)\n",
        "\n",
        "        return v"
      ],
      "execution_count": 0,
      "outputs": []
    },
    {
      "cell_type": "markdown",
      "metadata": {
        "id": "_yQOTR6YbA2b",
        "colab_type": "text"
      },
      "source": [
        "## 4. Capsule Layer\n",
        "\n",
        "We will now construct the Capsule layer. This is the layer wherein the routing takes place. Prediction $\\hat{u}_{j|i}$ is obtained from the previous layer, reshaped and passed to the routing mechanism. \n",
        "\n",
        "Input to the Capsule layer is the squashed 3 dimensional array obtained from the previous Capsule layer which we will discuss in the next section. The routing mechanism in the Capsule layer returns the output capsule vector v."
      ]
    },
    {
      "cell_type": "code",
      "metadata": {
        "id": "BADW2eeAa_us",
        "colab_type": "code",
        "colab": {}
      },
      "source": [
        "class CapsLayer(nn.Module):\n",
        "    def __init__(self, input_caps, input_dim, output_caps, output_dim, routing_module):\n",
        "        super(CapsLayer, self).__init__()\n",
        "        self.input_dim = input_dim\n",
        "        self.input_caps = input_caps\n",
        "        self.output_dim = output_dim\n",
        "        self.output_caps = output_caps\n",
        "        self.weights = nn.Parameter(torch.Tensor(input_caps, input_dim, output_caps * output_dim))\n",
        "        self.routing_module = routing_module\n",
        "        self.reset_parameters()\n",
        "\n",
        "    def reset_parameters(self):\n",
        "        stdv = 1. / math.sqrt(self.input_caps)\n",
        "        self.weights.data.uniform_(-stdv, stdv)\n",
        "\n",
        "    def forward(self, caps_output):\n",
        "        caps_output = caps_output.unsqueeze(2)\n",
        "        u_predict = caps_output.matmul(self.weights)\n",
        "        u_predict = u_predict.view(u_predict.size(0), self.input_caps, self.output_caps, self.output_dim)\n",
        "        v = self.routing_module(u_predict)\n",
        "        return v"
      ],
      "execution_count": 0,
      "outputs": []
    },
    {
      "cell_type": "markdown",
      "metadata": {
        "id": "4kA8Uf0qbpm4",
        "colab_type": "text"
      },
      "source": [
        "## 5. Primary Capsule Layer\n",
        "\n",
        "The primary capsule layer, also known as PrimaryCaps layer, is the first layer consisting of nested convolutions. The layer is followed by a convolution layer at the input. The layer then links to the main Capsule layer. \n",
        "\n",
        "Output to the primary capsule layer is a 3 dimensional vector $[batch\\_size,out\\_caps,out\\_dim]$ wherein 'out_caps' is the output capsules, i.e- the number of capsules in the next layer and 'out_dim' is the dimension of output capsules. "
      ]
    },
    {
      "cell_type": "code",
      "metadata": {
        "id": "kVDLDBn0buLd",
        "colab_type": "code",
        "colab": {}
      },
      "source": [
        "class PrimaryCapsLayer(nn.Module):\n",
        "    def __init__(self, input_channels, output_caps, output_dim, kernel_size, stride):\n",
        "        super(PrimaryCapsLayer, self).__init__()\n",
        "        self.conv = nn.Conv2d(input_channels, output_caps * output_dim, kernel_size=kernel_size, stride=stride)\n",
        "        self.input_channels = input_channels\n",
        "        self.output_caps = output_caps\n",
        "        self.output_dim = output_dim\n",
        "\n",
        "    def forward(self, input):\n",
        "        out = self.conv(input)\n",
        "        N, C, H, W = out.size()\n",
        "        out = out.view(N, self.output_caps, self.output_dim, H, W)\n",
        "\n",
        "        # will output N x OUT_CAPS x OUT_DIM\n",
        "        out = out.permute(0, 1, 3, 4, 2).contiguous()\n",
        "        out = out.view(out.size(0), -1, out.size(4))\n",
        "        out = squash(out)\n",
        "        return out"
      ],
      "execution_count": 0,
      "outputs": []
    },
    {
      "cell_type": "markdown",
      "metadata": {
        "id": "ajRT0rFxdCZx",
        "colab_type": "text"
      },
      "source": [
        "## 6. Assemble Layers to construct the network"
      ]
    },
    {
      "cell_type": "markdown",
      "metadata": {
        "id": "mwFSxrg6dKFq",
        "colab_type": "text"
      },
      "source": [
        "And here we are! Now we can assemble all our layers in the correct order to construc the Capsule Network. Starting from the top-  \n",
        "$\\rightarrow$A 2d convolution layer, $Conv2d$.  \n",
        "\n",
        "$\\rightarrow$The primary Capsule Layer, $PrimaryCapsLayer$ with its arguments as $input\\_channels, output\\_caps, output\\_dim, kernel\\_size, stride$.  \n",
        "\n",
        "$\\rightarrow$The Capsule Layer, $CapsLayer$ with the arguments $input\\_caps, input\\_dim, output\\_caps, output\\_dim, routing\\_module$. This is the layer where the routing takes place, i.e- set the argument $routing\\_module$ to $'Agreement Routing'$ which takes in the arguments $num\\_primaryCaps, n\\_classes, routing\\_iterations$.  \n",
        "\n",
        "$\\rightarrow$Fully-connected layers using $Linear$ with ReLU and Sigmoid activations. "
      ]
    },
    {
      "cell_type": "code",
      "metadata": {
        "id": "KGUJxNaDdIzN",
        "colab_type": "code",
        "colab": {}
      },
      "source": [
        "class CapsNet(nn.Module):\n",
        "    def __init__(self, routing_iterations, n_classes=10):\n",
        "        super(CapsNet, self).__init__()\n",
        "        self.conv1 = nn.Conv2d(1, 256, kernel_size=9, stride=1)\n",
        "        self.primaryCaps = PrimaryCapsLayer(256, 32, 8, kernel_size=9, stride=2)  # outputs 6*6\n",
        "        self.num_primaryCaps = 32 * 6 * 6\n",
        "        routing_module = AgreementRouting(self.num_primaryCaps, n_classes, routing_iterations)\n",
        "        self.digitCaps = CapsLayer(self.num_primaryCaps, 8, n_classes, 16, routing_module)\n",
        "        # self.flatten = nn.Flatten()\n",
        "        # self.fc1 = nn.Linear(n_dim * n_classes, 512)\n",
        "        # self.fc2 = nn.Linear(512, 1024)\n",
        "        # self.fc3 = nn.Linear(1024,784)\n",
        "\n",
        "    def forward(self, input):\n",
        "        x = self.conv1(input)\n",
        "        x = F.relu(x)\n",
        "        x = self.primaryCaps(x)\n",
        "        x = self.digitCaps(x)\n",
        "        probs = x.pow(2).sum(dim=2).sqrt()\n",
        "        # x = self.flatten(x)\n",
        "        # x = F.relu(self.fc1(x))\n",
        "        # x = F.relu(self.fc2(x))\n",
        "        # x = F.sigmoid(self.fc3(x))\n",
        "        return x, probs"
      ],
      "execution_count": 0,
      "outputs": []
    },
    {
      "cell_type": "markdown",
      "metadata": {
        "id": "XE1vbnrefKsV",
        "colab_type": "text"
      },
      "source": [
        "## 7. Initialize Margin Loss"
      ]
    },
    {
      "cell_type": "markdown",
      "metadata": {
        "id": "c2xjyvyCfTQD",
        "colab_type": "text"
      },
      "source": [
        "We deviate from our standard loss metrics for this tutorial and try out a new loss function called the Margin Loss. The reason behind this is that we wish to assess the capsule vector instantiation corresponding to eah digit. This is because we are using the length of the instantiation vector to represent the probability that a capule's entity exists. Thus, we would like to the top level capsule for digit class 'k' to have higher instantiation if the digit is present in the image.  \n",
        "\n",
        "Margin Loss can be mathematically expressed as-  \n",
        "<center>$L_{k} = T_{k} max(0,m^{+} - ||v_{k}||)^{2} + \\lambda(1 - T_{k})max(0,||v_{k}|| - m^{-})^{2}$ </center>\n",
        "\n",
        "\n",
        "Here, $T_{k} = 1$ if a digit of class 'k' is present, $m^{+} = 0.9$ and $m^{-} = 0.1$. $\\lambda$ is used as a donw-weighting constant of the loss for absent digit classes This stops the initial learning from shrinking the lengths of activity vectors of all digit capsules.  "
      ]
    },
    {
      "cell_type": "code",
      "metadata": {
        "id": "dr3az5yEfSgl",
        "colab_type": "code",
        "colab": {}
      },
      "source": [
        "class MarginLoss(nn.Module):\n",
        "    def __init__(self, m_pos, m_neg, lambda_):\n",
        "        super(MarginLoss, self).__init__()\n",
        "        self.m_pos = m_pos\n",
        "        self.m_neg = m_neg\n",
        "        self.lambda_ = lambda_\n",
        "\n",
        "    def forward(self, lengths, targets, size_average=True):\n",
        "        t = torch.zeros(lengths.size()).long()\n",
        "        if targets.is_cuda:\n",
        "            t = t.cuda()\n",
        "        t = t.scatter_(1, targets.data.view(-1, 1), 1)\n",
        "        targets = Variable(t)\n",
        "        losses = targets.float() * F.relu(self.m_pos - lengths).pow(2) + \\\n",
        "                 self.lambda_ * (1. - targets.float()) * F.relu(lengths - self.m_neg).pow(2)\n",
        "        return losses.mean() if size_average else losses.sum()"
      ],
      "execution_count": 0,
      "outputs": []
    },
    {
      "cell_type": "markdown",
      "metadata": {
        "id": "N8GN1GUIhn-1",
        "colab_type": "text"
      },
      "source": [
        "## 8. Train and Test the Model"
      ]
    },
    {
      "cell_type": "markdown",
      "metadata": {
        "id": "ZbamkX_thw7S",
        "colab_type": "text"
      },
      "source": [
        "All right, now we are all setup to start training our CapsNet. We can load the MNIST dataset from PyTorch and load the data in the 'DataLoader' (as we did in the previous tutorials). "
      ]
    },
    {
      "cell_type": "code",
      "metadata": {
        "id": "nNKMyGRphnLn",
        "colab_type": "code",
        "outputId": "6572d12f-ed1d-4080-fd69-471dfae764bf",
        "colab": {
          "base_uri": "https://localhost:8080/",
          "height": 1000
        }
      },
      "source": [
        "import torch.optim as optim\n",
        "from torchvision import datasets, transforms\n",
        "from torch.autograd import Variable\n",
        "\n",
        "batch_size = 128\n",
        "test_batch_size = 100\n",
        "epochs = 10\n",
        "routing_iterations = 3\n",
        "lr = 0.001\n",
        "loss_train = []\n",
        "loss_test = []\n",
        "\n",
        "#Load training data\n",
        "train_loader = torch.utils.data.DataLoader(\n",
        "    datasets.MNIST('../data', train=True, download=True,\n",
        "                    transform=transforms.Compose([\n",
        "                        transforms.Pad(2), transforms.RandomCrop(28),\n",
        "                        transforms.ToTensor()\n",
        "                    ])),\n",
        "    batch_size=batch_size, shuffle=True)\n",
        "\n",
        "#Load testing data\n",
        "test_loader = torch.utils.data.DataLoader(\n",
        "    datasets.MNIST('../data', train=False, transform=transforms.Compose([\n",
        "        transforms.ToTensor()\n",
        "    ])),\n",
        "    batch_size=test_batch_size, shuffle=False)\n",
        "\n",
        "#Initialize model and training paramters\n",
        "model = CapsNet(routing_iterations).to(device)\n",
        "optimizer = optim.Adam(model.parameters(), lr=lr)\n",
        "scheduler = lr_scheduler.ReduceLROnPlateau(optimizer, verbose=True, patience=15, min_lr=1e-6)\n",
        "loss_fn = MarginLoss(0.9, 0.1, 0.5)\n",
        "\n",
        "#Train the model\n",
        "def train(epoch):\n",
        "    model.train()\n",
        "    for batch_idx, (data, target) in enumerate(train_loader):\n",
        "        data, target = Variable(data).to(device), Variable(target, requires_grad=False).to(device)\n",
        "        optimizer.zero_grad()\n",
        "        output, probs = model(data)\n",
        "        loss = loss_fn(probs, target)\n",
        "        loss.backward()\n",
        "        optimizer.step()\n",
        "        if batch_idx % batch_size == 0:\n",
        "            print('Train Epoch: {} [{}/{} ({:.0f}%)]\\tLoss: {:.6f}'.format(\n",
        "                epoch, batch_idx * len(data), len(train_loader.dataset),\n",
        "                        100. * batch_idx / len(train_loader), loss.item()))\n",
        "        loss_train.append(loss.item())\n",
        "        \n",
        "#Test the model\n",
        "def test():\n",
        "    model.eval()\n",
        "    test_loss = 0\n",
        "    correct = 0\n",
        "    for data, target in test_loader:\n",
        "        data, target = data.to(device), target.to(device)\n",
        "        data, target = Variable(data, volatile=True), Variable(target)\n",
        "        output, probs = model(data)\n",
        "        test_loss += loss_fn(probs, target, size_average=False).item()\n",
        "\n",
        "        pred = probs.data.max(1, keepdim=True)[1]  # get the index of the max probability\n",
        "        correct += pred.eq(target.data.view_as(pred)).cpu().sum()\n",
        "\n",
        "    test_loss /= len(test_loader.dataset)\n",
        "    print('\\nTest set: Average loss: {:.4f}, Accuracy: {}/{} ({:.0f}%)\\n'.format(\n",
        "        test_loss, correct, len(test_loader.dataset),\n",
        "        100. * correct / len(test_loader.dataset)))\n",
        "    return test_loss\n",
        "\n",
        "#Iterate over epochs\n",
        "for epoch in range(1, epochs + 1):\n",
        "        train(epoch)\n",
        "        test_loss = test()\n",
        "        loss_test.append(test_loss)\n",
        "        scheduler.step(test_loss)\n",
        "        torch.save(model.state_dict(),\n",
        "                   '{:03d}_model_dict_{}.pth'.format(epoch, routing_iterations))\n",
        "        "
      ],
      "execution_count": 16,
      "outputs": [
        {
          "output_type": "stream",
          "text": [
            "/usr/local/lib/python3.6/dist-packages/ipykernel_launcher.py:10: UserWarning: Implicit dimension choice for softmax has been deprecated. Change the call to include dim=X as an argument.\n",
            "  # Remove the CWD from sys.path while we load stuff.\n",
            "/usr/local/lib/python3.6/dist-packages/ipykernel_launcher.py:21: UserWarning: Implicit dimension choice for softmax has been deprecated. Change the call to include dim=X as an argument.\n"
          ],
          "name": "stderr"
        },
        {
          "output_type": "stream",
          "text": [
            "Train Epoch: 1 [0/60000 (0%)]\tLoss: 0.080879\n",
            "Train Epoch: 1 [16384/60000 (27%)]\tLoss: 0.006140\n",
            "Train Epoch: 1 [32768/60000 (55%)]\tLoss: 0.005142\n",
            "Train Epoch: 1 [49152/60000 (82%)]\tLoss: 0.001950\n"
          ],
          "name": "stdout"
        },
        {
          "output_type": "stream",
          "text": [
            "/usr/local/lib/python3.6/dist-packages/ipykernel_launcher.py:58: UserWarning: volatile was removed and now has no effect. Use `with torch.no_grad():` instead.\n"
          ],
          "name": "stderr"
        },
        {
          "output_type": "stream",
          "text": [
            "\n",
            "Test set: Average loss: 0.0244, Accuracy: 9839/10000 (98%)\n",
            "\n",
            "Train Epoch: 2 [0/60000 (0%)]\tLoss: 0.003473\n",
            "Train Epoch: 2 [16384/60000 (27%)]\tLoss: 0.002214\n",
            "Train Epoch: 2 [32768/60000 (55%)]\tLoss: 0.001916\n",
            "Train Epoch: 2 [49152/60000 (82%)]\tLoss: 0.002433\n",
            "\n",
            "Test set: Average loss: 0.0170, Accuracy: 9898/10000 (99%)\n",
            "\n",
            "Train Epoch: 3 [0/60000 (0%)]\tLoss: 0.002062\n",
            "Train Epoch: 3 [16384/60000 (27%)]\tLoss: 0.001276\n",
            "Train Epoch: 3 [32768/60000 (55%)]\tLoss: 0.001528\n",
            "Train Epoch: 3 [49152/60000 (82%)]\tLoss: 0.001160\n",
            "\n",
            "Test set: Average loss: 0.0095, Accuracy: 9932/10000 (99%)\n",
            "\n",
            "Train Epoch: 4 [0/60000 (0%)]\tLoss: 0.001378\n",
            "Train Epoch: 4 [16384/60000 (27%)]\tLoss: 0.001322\n",
            "Train Epoch: 4 [32768/60000 (55%)]\tLoss: 0.002625\n",
            "Train Epoch: 4 [49152/60000 (82%)]\tLoss: 0.001617\n",
            "\n",
            "Test set: Average loss: 0.0116, Accuracy: 9921/10000 (99%)\n",
            "\n",
            "Train Epoch: 5 [0/60000 (0%)]\tLoss: 0.001244\n",
            "Train Epoch: 5 [16384/60000 (27%)]\tLoss: 0.002248\n",
            "Train Epoch: 5 [32768/60000 (55%)]\tLoss: 0.000965\n",
            "Train Epoch: 5 [49152/60000 (82%)]\tLoss: 0.000983\n",
            "\n",
            "Test set: Average loss: 0.0100, Accuracy: 9911/10000 (99%)\n",
            "\n",
            "Train Epoch: 6 [0/60000 (0%)]\tLoss: 0.001135\n",
            "Train Epoch: 6 [16384/60000 (27%)]\tLoss: 0.001067\n",
            "Train Epoch: 6 [32768/60000 (55%)]\tLoss: 0.001842\n",
            "Train Epoch: 6 [49152/60000 (82%)]\tLoss: 0.000761\n",
            "\n",
            "Test set: Average loss: 0.0082, Accuracy: 9926/10000 (99%)\n",
            "\n",
            "Train Epoch: 7 [0/60000 (0%)]\tLoss: 0.000684\n",
            "Train Epoch: 7 [16384/60000 (27%)]\tLoss: 0.000612\n",
            "Train Epoch: 7 [32768/60000 (55%)]\tLoss: 0.001265\n",
            "Train Epoch: 7 [49152/60000 (82%)]\tLoss: 0.001119\n",
            "\n",
            "Test set: Average loss: 0.0094, Accuracy: 9928/10000 (99%)\n",
            "\n",
            "Train Epoch: 8 [0/60000 (0%)]\tLoss: 0.001055\n",
            "Train Epoch: 8 [16384/60000 (27%)]\tLoss: 0.000567\n",
            "Train Epoch: 8 [32768/60000 (55%)]\tLoss: 0.000730\n",
            "Train Epoch: 8 [49152/60000 (82%)]\tLoss: 0.000738\n",
            "\n",
            "Test set: Average loss: 0.0078, Accuracy: 9937/10000 (99%)\n",
            "\n",
            "Train Epoch: 9 [0/60000 (0%)]\tLoss: 0.002358\n",
            "Train Epoch: 9 [16384/60000 (27%)]\tLoss: 0.000934\n",
            "Train Epoch: 9 [32768/60000 (55%)]\tLoss: 0.001198\n",
            "Train Epoch: 9 [49152/60000 (82%)]\tLoss: 0.000585\n",
            "\n",
            "Test set: Average loss: 0.0071, Accuracy: 9945/10000 (99%)\n",
            "\n",
            "Train Epoch: 10 [0/60000 (0%)]\tLoss: 0.000501\n",
            "Train Epoch: 10 [16384/60000 (27%)]\tLoss: 0.000790\n",
            "Train Epoch: 10 [32768/60000 (55%)]\tLoss: 0.000600\n",
            "Train Epoch: 10 [49152/60000 (82%)]\tLoss: 0.002145\n",
            "\n",
            "Test set: Average loss: 0.0081, Accuracy: 9944/10000 (99%)\n",
            "\n"
          ],
          "name": "stdout"
        }
      ]
    },
    {
      "cell_type": "code",
      "metadata": {
        "id": "dmXXxVKQrTFa",
        "colab_type": "code",
        "colab": {
          "base_uri": "https://localhost:8080/",
          "height": 591
        },
        "outputId": "5a3851ae-f8e8-4c8b-a374-1b6b2696377e"
      },
      "source": [
        "#Train Loss\n",
        "plt.figure()\n",
        "plt.title('Train Loss')\n",
        "plt.plot(loss_train)\n",
        "plt.xlabel('Steps')\n",
        "plt.ylabel('Loss')\n",
        "\n",
        "#Test Loss\n",
        "#Plot results\n",
        "plt.figure()\n",
        "plt.title('Test Loss')\n",
        "plt.plot(loss_test)\n",
        "plt.xlabel('Epochs')\n",
        "plt.ylabel('Loss')"
      ],
      "execution_count": 11,
      "outputs": [
        {
          "output_type": "execute_result",
          "data": {
            "text/plain": [
              "Text(0, 0.5, 'Loss')"
            ]
          },
          "metadata": {
            "tags": []
          },
          "execution_count": 11
        },
        {
          "output_type": "display_data",
          "data": {
            "image/png": "[encoded data removed]",
            "text/plain": [
              "<Figure size 432x288 with 1 Axes>"
            ]
          },
          "metadata": {
            "tags": []
          }
        },
        {
          "output_type": "display_data",
          "data": {
            "image/png": "[encoded data removed]",
            "text/plain": [
              "<Figure size 432x288 with 1 Axes>"
            ]
          },
          "metadata": {
            "tags": []
          }
        }
      ]
    },
    {
      "cell_type": "code",
      "metadata": {
        "id": "ebgg_FOVLl5B",
        "colab_type": "code",
        "colab": {}
      },
      "source": [
        ""
      ],
      "execution_count": 0,
      "outputs": []
    }
  ]
}