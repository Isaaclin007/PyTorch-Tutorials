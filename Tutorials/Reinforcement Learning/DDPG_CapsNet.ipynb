{
 "cells": [
  {
   "cell_type": "markdown",
   "metadata": {
    "colab_type": "text",
    "id": "w69XPgj3Yezt"
   },
   "source": [
    "\n",
    "<h1><center> Deep Deterministic Policy Gradients (DDPG) in PyTorch using Capsule Networks</center></h1>\n",
    "\n",
    "This is a naive implementation of Deep Deterministic Policy Gradients (DDPG). The algorithm makes use of Capsule Networks (CapsNet) which we discussed in the Deep Learning tutorials. The last section consists of all the resources which will come in handy for Reinforcement Learning. "
   ]
  },
  {
   "cell_type": "markdown",
   "metadata": {
    "colab_type": "text",
    "id": "IvBmWCVMYpoB"
   },
   "source": [
    "### 1. Import Dependencies\n",
    "\n",
    "We will use PyTorch and gym (by OpenAI) for our experiments as these are lightweight and easy to program."
   ]
  },
  {
   "cell_type": "code",
   "execution_count": 0,
   "metadata": {
    "colab": {
     "base_uri": "https://localhost:8080/",
     "height": 173
    },
    "colab_type": "code",
    "id": "it0RYMQHYaXs",
    "outputId": "0d099004-4386-4566-da13-f19ab3c99423"
   },
   "outputs": [
    {
     "name": "stdout",
     "output_type": "stream",
     "text": [
      "Requirement already satisfied: gym in /usr/local/lib/python3.6/dist-packages (0.15.4)\n",
      "Requirement already satisfied: pyglet<=1.3.2,>=1.2.0 in /usr/local/lib/python3.6/dist-packages (from gym) (1.3.2)\n",
      "Requirement already satisfied: cloudpickle~=1.2.0 in /usr/local/lib/python3.6/dist-packages (from gym) (1.2.2)\n",
      "Requirement already satisfied: opencv-python in /usr/local/lib/python3.6/dist-packages (from gym) (4.1.2.30)\n",
      "Requirement already satisfied: scipy in /usr/local/lib/python3.6/dist-packages (from gym) (1.4.1)\n",
      "Requirement already satisfied: six in /usr/local/lib/python3.6/dist-packages (from gym) (1.12.0)\n",
      "Requirement already satisfied: numpy>=1.10.4 in /usr/local/lib/python3.6/dist-packages (from gym) (1.17.5)\n",
      "Requirement already satisfied: future in /usr/local/lib/python3.6/dist-packages (from pyglet<=1.3.2,>=1.2.0->gym) (0.16.0)\n",
      "Mounted at /content/drive\n"
     ]
    }
   ],
   "source": [
    "!pip install gym\n",
    "import math\n",
    "import json\n",
    "import random\n",
    "import gym\n",
    "import numpy as np\n",
    "import torch\n",
    "import torch.nn as nn\n",
    "import torch.optim as optim\n",
    "import torch.nn.functional as F\n",
    "from torch.distributions import Normal\n",
    "from torch.autograd import Variable\n",
    "\n",
    "import matplotlib.pyplot as plt\n",
    "from matplotlib.image import imsave\n",
    "from google.colab import files\n",
    "\n",
    "#Use Google Drive\n",
    "from google.colab import drive\n",
    "user_name = '/content/drive'\n",
    "drive_name = '/content/drive/My Drive/Colab Notebooks/Frames'\n",
    "checkpoint_name = '/content/drive/My Drive/Colab Notebooks/Checkpoints'\n",
    "drive.mount(user_name, force_remount=True)\n",
    "\n",
    "#Use GPU\n",
    "use_cuda = torch.cuda.is_available()\n",
    "device = torch.device('cuda' if use_cuda else 'cpu')"
   ]
  },
  {
   "cell_type": "markdown",
   "metadata": {
    "colab_type": "text",
    "id": "oc5ZoG3gZCLV"
   },
   "source": [
    "### 2. Experience Replay Buffer\n",
    "\n",
    "Almost all Reinforcement Learning methods make use of a Replay Buffer which saves past experiences from a particular episode. Each (state,action,reward,next_state) tuple is stored in the buffer so that the RL algorithm can be trained later when the episode is over."
   ]
  },
  {
   "cell_type": "code",
   "execution_count": 0,
   "metadata": {
    "colab": {},
    "colab_type": "code",
    "id": "MEjpouEBZEw-"
   },
   "outputs": [],
   "source": [
    "class ReplayBuffer:\n",
    "  def __init__(self,capacity): #Initializa Buffer\n",
    "    self.capacity = capacity\n",
    "    self.buffer = []\n",
    "    self.position = 0\n",
    "\n",
    "  def push(self,state,action,reward,next_state,done): #Push values into buffer\n",
    "    if len(self.buffer)<self.capacity:\n",
    "      self.buffer.append(None)\n",
    "    self.buffer[self.position] = (state,action,reward,next_state,done)\n",
    "    self.position = (self.position+1)%self.capacity\n",
    "\n",
    "  def sample(self,batch_size): #Sample values from buffer during training\n",
    "    batch = random.sample(self.buffer,batch_size)\n",
    "    state,action,reward,next_state,done = map(np.stack, zip(*batch))\n",
    "    return state,action,reward,next_state,done\n",
    "\n",
    "  def __len__(self):\n",
    "    return len(self.buffer)"
   ]
  },
  {
   "cell_type": "markdown",
   "metadata": {
    "colab_type": "text",
    "id": "e3utUgqSbp2J"
   },
   "source": [
    "### 3. Ornstein-Uhlenbeck Process\n",
    "\n",
    "Policy Gradient methods require a random process for making the policy explore the game environment. If sufficient exploration is not carried then our agent will not be able to perform all the actions and may fail in cases where it has not encountered a particular state previously. We use the OU process because it is Gaussian, Markovian and temporarily homogenous in nature. \n"
   ]
  },
  {
   "cell_type": "code",
   "execution_count": 0,
   "metadata": {
    "colab": {},
    "colab_type": "code",
    "id": "6JqyPwDGbvHB"
   },
   "outputs": [],
   "source": [
    "class OUNoise(object):\n",
    "    def __init__(self, action_space, mu=0.0, theta=0.15, max_sigma=0.3, min_sigma=0.3, decay_period=100000):\n",
    "        self.mu           = mu\n",
    "        self.theta        = theta\n",
    "        self.sigma        = max_sigma\n",
    "        self.max_sigma    = max_sigma\n",
    "        self.min_sigma    = min_sigma\n",
    "        self.decay_period = decay_period\n",
    "        # Pong- 6,0,5 | Breakout- 4,0,3\n",
    "        self.action_dim   = 4#action_space.shape[0]\n",
    "        self.low          = 0#action_space.low\n",
    "        self.high         = 3#action_space.high\n",
    "        self.reset()\n",
    "        \n",
    "    def reset(self):\n",
    "        self.state = np.ones(self.action_dim) * self.mu\n",
    "        \n",
    "    def evolve_state(self):\n",
    "        x  = self.state\n",
    "        dx = self.theta * (self.mu - x) + self.sigma * np.random.randn(self.action_dim)\n",
    "        self.state = x + dx\n",
    "        return self.state\n",
    "    \n",
    "    def get_action(self, action, t=0):\n",
    "        ou_state = self.evolve_state()\n",
    "        self.sigma = self.max_sigma - (self.max_sigma - self.min_sigma) * min(1.0, t / self.decay_period)\n",
    "        return np.clip(action + ou_state, self.low, self.high)"
   ]
  },
  {
   "cell_type": "markdown",
   "metadata": {
    "colab_type": "text",
    "id": "qDVSW1hfbz_4"
   },
   "source": [
    "### 4. Actor-Critic Networks\n",
    "\n",
    "This is where the fun starts! Each Policy Gradient method consists of an Actor Network and a Critic Network. Following are the explanation of the two- \n",
    "\n",
    "### 4.1 Actor Network\n",
    "The Actor Network is responsible for performing the actions during the game. It takes its input as one frame (which is an image) from the game screen and outputs the probabilities for actions. Action corresponding to the highest probability is selected. Actor Networks are often called Policy Networks since they execute the policy which our agent will follow. \n",
    "\n",
    "$$ s \\rightarrow \\pi (a|s,\\theta=w)$$\n",
    "\n",
    "### 4.2 Critic Network\n",
    "The Critic Network (also called the Value Network) is the one which assesses how good the action was. It takes its input as the state and action performed in that state and outputs the value corresponding to the value function. This value is an indication of how the good the action was and how much it deviates from the ideal action (corresponding to the expected value) in the given state. \n",
    "\n",
    "$$ s,a \\rightarrow \\hat{v}(s,w)$$\n",
    "\n",
    "\n",
    "The following piece of code presents an example of ANNs as Actor-Critic Networks."
   ]
  },
  {
   "cell_type": "code",
   "execution_count": 0,
   "metadata": {
    "colab": {},
    "colab_type": "code",
    "id": "dp1qVsIPb-qN"
   },
   "outputs": [],
   "source": [
    "# class ValueNetwork(nn.Module): #Replace ANN with CapsNet, concatenate state and action from buffer and take np.argmax from prob tensor after last layer\n",
    "#   def __init__(self,num_inputs,num_actions,hidden_size,init_w=3e-3): #The Critic Network\n",
    "#     super(ValueNetwork,self).__init__()\n",
    "#     self.linear1 = nn.Linear(num_inputs+num_actions,hidden_size)\n",
    "#     self.linear2 = nn.Linear(hidden_size,hidden_size)\n",
    "#     self.linear3 = nn.Linear(hidden_size,1)\n",
    "#     self.linear3.weight.data.uniform_(-init_w,init_w)\n",
    "#     self.linear3.bias.data.uniform_(-init_w,init_w)\n",
    "\n",
    "#   def forward(self,state,action): #Forward Pass\n",
    "#     print(state.shape)\n",
    "#     print(action.shape)\n",
    "#     x = torch.cat([state,action],1)\n",
    "#     x = F.relu(self.linear1(x))\n",
    "#     x = F.relu(self.linear2(x))\n",
    "#     x = self.linear3(x)\n",
    "#     return x\n",
    "\n",
    "# class PolicyNetwork(nn.Module): #The Actor Network\n",
    "#     def __init__(self, num_inputs, num_actions, hidden_size, init_w=3e-3):\n",
    "#         super(PolicyNetwork, self).__init__()   \n",
    "#         self.linear1 = nn.Linear(num_inputs, hidden_size)\n",
    "#         self.linear2 = nn.Linear(hidden_size, hidden_size)\n",
    "#         self.linear3 = nn.Linear(hidden_size, num_actions)\n",
    "#         self.linear3.weight.data.uniform_(-init_w, init_w)\n",
    "#         self.linear3.bias.data.uniform_(-init_w, init_w)\n",
    "        \n",
    "#     def forward(self, state): #Forward Pass\n",
    "#         x = F.relu(self.linear1(state))\n",
    "#         x = F.relu(self.linear2(x))\n",
    "#         x = F.tanh(self.linear3(x))\n",
    "#         return x\n",
    "\n",
    "#     def get_action(self,state): #Sample Action\n",
    "#       state = torch.FloatTensor(state).unsqueeze(0).to(device)\n",
    "#       action = self.forward(state)\n",
    "#       return action.detach().cpu().numpy()[0,0]\n"
   ]
  },
  {
   "cell_type": "markdown",
   "metadata": {
    "colab_type": "text",
    "id": "yvUnGIixdixE"
   },
   "source": [
    "### 5. CapsNet as Actor Network\n",
    "\n",
    "The architecture is same as what we studied in the Deep Learning tutorials.\n",
    "\n",
    "### 5.1 Layers of CapsNet"
   ]
  },
  {
   "cell_type": "code",
   "execution_count": 0,
   "metadata": {
    "colab": {},
    "colab_type": "code",
    "id": "grRLto-Ldpe1"
   },
   "outputs": [],
   "source": [
    "def squash(x): #Squashing Function\n",
    "    lengths2 = x.pow(2).sum(dim=2)\n",
    "    lengths = lengths2.sqrt()\n",
    "    x = x * (lengths2 / (1 + lengths2) / lengths).view(x.size(0), x.size(1), 1)\n",
    "    return x\n",
    "\n",
    "\n",
    "class AgreementRouting(nn.Module): #Dynamic Routing Algorithm\n",
    "    def __init__(self, input_caps, output_caps, n_iterations):\n",
    "        super(AgreementRouting, self).__init__()\n",
    "        self.n_iterations = n_iterations\n",
    "        self.b = nn.Parameter(torch.zeros((input_caps, output_caps)))\n",
    "\n",
    "    def forward(self, u_predict):\n",
    "        batch_size, input_caps, output_caps, output_dim = u_predict.size()\n",
    "        c = F.softmax(self.b)\n",
    "        s = (c.unsqueeze(2) * u_predict).sum(dim=1)\n",
    "        v = squash(s)\n",
    "        if self.n_iterations > 0:\n",
    "            b_batch = self.b.expand((batch_size, input_caps, output_caps))\n",
    "            for r in range(self.n_iterations):\n",
    "                v = v.unsqueeze(1)\n",
    "                b_batch = b_batch + (u_predict * v).sum(-1)\n",
    "\n",
    "                c = F.softmax(b_batch.view(-1, output_caps)).view(-1, input_caps, output_caps, 1)\n",
    "                s = (c * u_predict).sum(dim=1)\n",
    "                v = squash(s)\n",
    "        return v\n",
    "\n",
    "\n",
    "class CapsLayer(nn.Module): #Digit Capsule Layer\n",
    "    def __init__(self, input_caps, input_dim, output_caps, output_dim, routing_module):\n",
    "        super(CapsLayer, self).__init__()\n",
    "        self.input_dim = input_dim\n",
    "        self.input_caps = input_caps\n",
    "        self.output_dim = output_dim\n",
    "        self.output_caps = output_caps\n",
    "        self.weights = nn.Parameter(torch.Tensor(input_caps, input_dim, output_caps * output_dim))\n",
    "        self.routing_module = routing_module\n",
    "        self.reset_parameters()\n",
    "\n",
    "    def reset_parameters(self):\n",
    "        stdv = 1. / math.sqrt(self.input_caps)\n",
    "        self.weights.data.uniform_(-stdv, stdv)\n",
    "\n",
    "    def forward(self, caps_output):\n",
    "        caps_output = caps_output.unsqueeze(2)\n",
    "        caps_output = caps_output.mean(1)\n",
    "        caps_output = caps_output.unsqueeze(1)\n",
    "        u_predict = caps_output.matmul(self.weights)\n",
    "        u_predict = u_predict.view(u_predict.size(0), self.input_caps, self.output_caps, self.output_dim)\n",
    "        v = self.routing_module(u_predict)\n",
    "        return v\n",
    "\n",
    "\n",
    "class PrimaryCapsLayer(nn.Module): #Primary Capsule Layer\n",
    "    def __init__(self, input_channels, output_caps, output_dim, kernel_size, stride):\n",
    "        super(PrimaryCapsLayer, self).__init__()\n",
    "        self.conv = nn.Conv2d(input_channels, output_caps * output_dim, kernel_size=kernel_size, stride=stride)\n",
    "        self.input_channels = input_channels\n",
    "        self.output_caps = output_caps\n",
    "        self.output_dim = output_dim\n",
    "\n",
    "    def forward(self, input):\n",
    "        out = self.conv(input)\n",
    "        N, C, H, W = out.size()\n",
    "        out = out.view(N, self.output_caps, self.output_dim, H, W)\n",
    "        # will output N x OUT_CAPS x OUT_DIM\n",
    "        out = out.permute(0, 1, 3, 4, 2).contiguous()\n",
    "        out = out.view(out.size(0), -1, out.size(4))\n",
    "        out = squash(out)\n",
    "        return out\n"
   ]
  },
  {
   "cell_type": "markdown",
   "metadata": {
    "colab_type": "text",
    "id": "R7r2ka6wgjgI"
   },
   "source": [
    "### 5.2 CapsNet Architecture"
   ]
  },
  {
   "cell_type": "code",
   "execution_count": 0,
   "metadata": {
    "colab": {},
    "colab_type": "code",
    "id": "1ibN6AvlgoIg"
   },
   "outputs": [],
   "source": [
    "class PolicyNetwork1(nn.Module):\n",
    "    def __init__(self, n_classes, routing_iterations):\n",
    "        super(PolicyNetwork1, self).__init__()\n",
    "        self.conv1 = nn.Conv2d(1, 128, kernel_size=3, stride=2)\n",
    "        self.primaryCaps = PrimaryCapsLayer(128, 4, 4, kernel_size=3, stride=2)  \n",
    "        self.num_primaryCaps = 4\n",
    "        routing_module = AgreementRouting(self.num_primaryCaps, n_classes, routing_iterations)\n",
    "        self.digitCaps = CapsLayer(self.num_primaryCaps, 4, n_classes, 8, routing_module)\n",
    "\n",
    "    def forward(self, input):\n",
    "        x = self.conv1(input)\n",
    "        x = F.relu(x)\n",
    "        x = self.primaryCaps(x)\n",
    "        x = self.digitCaps(x)\n",
    "        probs = x.pow(2).sum(dim=2).sqrt()\n",
    "        return probs\n",
    "\n",
    "    def get_action(self,state): #Sample Action\n",
    "        state = torch.FloatTensor(state).unsqueeze(0).to(device)\n",
    "        action = self.forward(state)\n",
    "        return action.detach().cpu().numpy()[0,0]\n",
    "\n",
    "\n",
    "class ValueNetwork(nn.Module):\n",
    "    def __init__(self, n_classes, routing_iterations):\n",
    "        super(ValueNetwork, self).__init__()\n",
    "        self.conv1 = nn.Conv2d(5, 128, kernel_size=1, stride=2)\n",
    "        self.primaryCaps = PrimaryCapsLayer(128, 4, 4, kernel_size=1, stride=2)  \n",
    "        self.num_primaryCaps = 4\n",
    "        routing_module = AgreementRouting(self.num_primaryCaps, n_classes, routing_iterations)\n",
    "        self.digitCaps = CapsLayer(self.num_primaryCaps, 4, n_classes, 8, routing_module)\n",
    "\n",
    "    def forward(self, state, action):\n",
    "        state = ((((state.mean(3)).mean(2)).unsqueeze(2)).unsqueeze(3))\n",
    "        action = ((action.unsqueeze(2)).unsqueeze(3))\n",
    "        x = torch.cat([state,action], axis=1)\n",
    "        x = self.conv1(x)\n",
    "        x = F.relu(x)\n",
    "        x = self.primaryCaps(x)\n",
    "        x = self.digitCaps(x)\n",
    "        probs = x.pow(2).sum(dim=2).sqrt()\n",
    "        val, ind = probs.max(1)\n",
    "        return ind\n"
   ]
  },
  {
   "cell_type": "markdown",
   "metadata": {
    "colab_type": "text",
    "id": "og6fBZZbfFog"
   },
   "source": [
    "### 6. DDPG Update\n",
    "\n",
    "The policy update is carried out by updating the action and value obtained from both the networks. Think of it as updating gradients for a network but in a different way. Here is how one single pass is carried out- \n",
    "\n",
    "$\\rightarrow$ Randomly initialize Critic Network $\\hat{v}(s,w)$ and Actor Network $\\pi (a|s,\\theta=w)$. \n",
    "\n",
    "$\\rightarrow$ Initialize target networks $\\hat{v}_{'}(s,w)$ and $\\pi_{'} (a|s,\\theta=w)$. [Target Networks are the networks which keep track of the policy by following similar actions which the original networks performed.] \n",
    "\n",
    "$\\rightarrow$ Initialize Replay Buffer 'R'\n",
    "\n",
    "$\\rightarrow$ Initialize the OU Process\n",
    "\n",
    "$\\rightarrow$ for episode =1,...M do\n",
    "\n",
    "$\\rightarrow$ for t =1,...T do\n",
    "\n",
    "$.$    $\\small\\qquad sample\\ state\\ s_{t}\\ from\\ replay\\ buffer$\n",
    "\n",
    "$.$    $\\small\\qquad select\\ action\\ a_{t}\\ $\n",
    "\n",
    "$.$    $\\small\\qquad execute\\ a_{t}\\ and\\ observe\\ r_{t}\\ , \\ s_{t+1} $\n",
    "\n",
    "$.$    $\\small\\qquad store\\ (s_{t},a_{t},r_{t},s_{t+1})\\ in\\ R$\n",
    "\n",
    "$.$    $\\small\\qquad sample\\ a\\ mini-batch\\ from\\ R$\n",
    "\n",
    "$.$    $\\small\\qquad set\\ y_{i} \\leftarrow r_{i} + \\gamma \\hat{v}_{'}(s_{t+1},w|a_{t})$\n",
    "\n",
    "$.$    $\\small\\qquad Update\\ Critic:\\ L \\leftarrow \\frac{1}{N}\\sum_{i}(y_{i} - \\hat{v}_{'}(s_{t},a_{t}|w))^2 $\n",
    "\n",
    "$.$    $\\small\\qquad Update\\ Actor:\\ \\nabla_{w}J \\leftarrow \\frac{1}{N}\\sum_{i} (\\nabla_{a}\\hat{v}_{'}(s_{i=t},a_{t}|w).\\nabla_{w}a_{i=t}(s_{i=t}|w))  $\n",
    "\n",
    "$.$    $\\small\\qquad Update\\ Target\\ Networks:\\ w \\leftarrow \\tau w + \\tau(1-w) $\n",
    "\n",
    "$\\rightarrow$ endfor\n",
    "\n",
    "$\\rightarrow$ endfor\n",
    "\n",
    "\n",
    "\n",
    "\n",
    "\n",
    "\n"
   ]
  },
  {
   "cell_type": "code",
   "execution_count": 0,
   "metadata": {
    "colab": {},
    "colab_type": "code",
    "id": "cC6fR4oNfHfV"
   },
   "outputs": [],
   "source": [
    "def ddpg_update(batch_size,gamma=0.99,min_value=-np.inf,max_value=np.inf,soft_tau=1e-2): #One Pass of DDPG update\n",
    "  state,action,reward,next_state,done = replay_buffer.sample(batch_size) #Sample from Replay Buffer\n",
    "\n",
    "  state = torch.FloatTensor(state).to(device) #Make Tensors, duh!\n",
    "  next_state = torch.FloatTensor(next_state).to(device)\n",
    "  action = torch.FloatTensor(action).to(device)\n",
    "  reward = torch.FloatTensor(reward).unsqueeze(1).to(device)\n",
    "  done = torch.FloatTensor(np.float32(done)).unsqueeze(1).to(device)\n",
    "  policy_loss = value_net(state,policy_net(state)) #Evaluate Critic Loss #state #Make sure to change ValueNet and Buffer arguments in all the places\n",
    "  policy_loss = -policy_loss.type(torch.FloatTensor).mean()\n",
    "\n",
    "  next_action = target_policy_net(next_state) #Predict next action using target actor network\n",
    "  target_value = target_value_net(state,next_action.detach()) #Obtain target value\n",
    "  expected_value = torch.FloatTensor(reward + (1-done)*gamma*target_value) #Expected value (taking into account long-term gain)\n",
    "  expected_value = torch.clamp(expected_value,min_value,max_value)\n",
    "\n",
    "  action = action.reshape(-1)\n",
    "  action = action.to('cpu').numpy()\n",
    "  action = action.astype(int)\n",
    "  action = np.eye(action_dim)[action]\n",
    "  action = torch.FloatTensor(action).to(device)\n",
    "  value = value_net(state,action) #Input action and state to obtain value from Critic\n",
    "  value = value.type(torch.FloatTensor)\n",
    "  value_loss = value_critierion(expected_value.detach(),value)\n",
    "\n",
    "  policy_optimizer.zero_grad() #Optimize Actor Network\n",
    "  policy_loss = Variable(policy_loss.data, requires_grad=True)\n",
    "  policy_loss.backward()\n",
    "  policy_optimizer.step()\n",
    "  \n",
    "\n",
    "  value_optimizer.zero_grad() #Optimize Critic Network\n",
    "  value_loss = Variable(value_loss.data, requires_grad=True)\n",
    "  value_loss.backward()\n",
    "  value_optimizer.step()\n",
    "\n",
    "  for target_param, param in zip(target_value_net.parameters(), value_net.parameters()): #Update Target Value Network\n",
    "    target_param.data.copy_(target_param.data * (1.0 - soft_tau) + param.data * soft_tau)\n",
    "\n",
    "  for target_param, param in zip(target_policy_net.parameters(), policy_net.parameters()): #Update Target Actor Network\n",
    "    target_param.data.copy_(target_param.data * (1.0 - soft_tau) + param.data * soft_tau)\n",
    "\n",
    "  expected_value = expected_value.to('cpu').numpy()\n",
    "  expected_value = expected_value.astype(float)\n",
    "  value = value.to('cpu').numpy()\n",
    "  value = value.astype(float)\n",
    "  policy_loss = policy_loss.detach().numpy()\n",
    "  policy_loss = policy_loss.astype(float)\n",
    "  value_loss = value_loss.detach().numpy()\n",
    "  value_loss = value_loss.astype(float)\n",
    "  \n",
    "  return np.mean(policy_loss), np.mean(value_loss), np.mean(value), np.mean(expected_value)"
   ]
  },
  {
   "cell_type": "markdown",
   "metadata": {
    "colab_type": "text",
    "id": "kQ8tt5rpfIAm"
   },
   "source": [
    "### 7. Test DDPG\n",
    "\n",
    "This is where we run the code. We initialize our environment and the networks and for each step, we proceed in the game by carrying out a sequence of actions. Once our agent loses, the episode ends. In each time-step, the policy $\\pi (a|s,\\theta=w)$ is improved by updating the actor network. \n",
    "\n",
    "Value Network is updated in the following manner- \n",
    "\n",
    "\\begin{gather}\n",
    "y_{i} \\leftarrow r_{i} + \\gamma \\hat{v}_{'}(s_{t+1},w|a_{t})\n",
    "\\end{gather}\n",
    "\n",
    "However, the next-state values are calculated with target value network and the target policy network- \n",
    "\n",
    "\\begin{gather}\n",
    "L \\leftarrow \\frac{1}{N}\\sum_{i}(y_{i} - \\hat{v}_{'}(s_{t},a_{t}|w))^2\n",
    "\\end{gather}\n",
    "\n",
    "The objective is to maximize the expected return, \n",
    "\n",
    "\\begin{gather}\n",
    "J(w) = \\mathbb{E}[\\hat{v}(s_{t},a_{t})_{s=s_{t},a=a_{t}}] \\\\\n",
    "and,\\quad  \\nabla_{w}J = \\nabla_{a}\\hat{v}(s_{t},a_{t}).\\nabla_{w}a(s|w) \\\\\n",
    "\\nabla_{w}J = \\frac{1}{N}\\sum_{i} (\\nabla_{a}\\hat{v}_{'}(s_{i=t},a_{t}|w).\\nabla_{w}a_{i=t}(s_{i=t}|w))\n",
    "\\end{gather}\n",
    "\n"
   ]
  },
  {
   "cell_type": "code",
   "execution_count": 0,
   "metadata": {
    "colab": {
     "base_uri": "https://localhost:8080/",
     "height": 1000
    },
    "colab_type": "code",
    "id": "KWyxK2HtfNSo",
    "outputId": "19b0cf8c-27e7-4222-dcd0-ceac4fae7057"
   },
   "outputs": [
    {
     "name": "stdout",
     "output_type": "stream",
     "text": [
      "Episode-  1\n"
     ]
    },
    {
     "name": "stderr",
     "output_type": "stream",
     "text": [
      "/usr/local/lib/python3.6/dist-packages/ipykernel_launcher.py:16: UserWarning: Implicit dimension choice for softmax has been deprecated. Change the call to include dim=X as an argument.\n",
      "  app.launch_new_instance()\n",
      "/usr/local/lib/python3.6/dist-packages/ipykernel_launcher.py:25: UserWarning: Implicit dimension choice for softmax has been deprecated. Change the call to include dim=X as an argument.\n",
      "/usr/local/lib/python3.6/dist-packages/torch/nn/modules/loss.py:431: UserWarning: Using a target size (torch.Size([64])) that is different to the input size (torch.Size([64, 64])). This will likely lead to incorrect results due to broadcasting. Please ensure they have the same size.\n",
      "  return F.mse_loss(input, target, reduction=self.reduction)\n"
     ]
    },
    {
     "name": "stdout",
     "output_type": "stream",
     "text": [
      "Episode-  2\n",
      "Episode-  3\n",
      "Episode-  4\n",
      "Episode-  5\n",
      "Episode-  6\n",
      "Episode-  7\n",
      "Episode-  8\n",
      "Episode-  9\n",
      "Episode-  10\n",
      "Episode-  11\n",
      "Episode-  12\n",
      "Episode-  13\n",
      "Episode-  14\n",
      "Episode-  15\n",
      "Episode-  16\n",
      "Episode-  17\n",
      "Episode-  18\n",
      "Episode-  19\n",
      "Episode-  20\n",
      "Episode-  21\n",
      "Episode-  22\n",
      "Episode-  23\n",
      "Episode-  24\n",
      "Episode-  25\n",
      "Episode-  26\n",
      "Episode-  27\n",
      "Episode-  28\n",
      "Episode-  29\n",
      "Episode-  30\n",
      "Episode-  31\n",
      "Episode-  32\n",
      "Episode-  33\n",
      "Episode-  34\n",
      "Episode-  35\n",
      "Episode-  36\n",
      "Episode-  37\n",
      "Episode-  38\n",
      "Episode-  39\n",
      "Episode-  40\n",
      "Episode-  41\n"
     ]
    },
    {
     "ename": "KeyboardInterrupt",
     "evalue": "ignored",
     "output_type": "error",
     "traceback": [
      "\u001b[0;31m---------------------------------------------------------------------------\u001b[0m",
      "\u001b[0;31mKeyboardInterrupt\u001b[0m                         Traceback (most recent call last)",
      "\u001b[0;32m<ipython-input-14-4aed8655d060>\u001b[0m in \u001b[0;36m<module>\u001b[0;34m()\u001b[0m\n\u001b[1;32m     95\u001b[0m     \u001b[0mreplay_buffer\u001b[0m\u001b[0;34m.\u001b[0m\u001b[0mpush\u001b[0m\u001b[0;34m(\u001b[0m\u001b[0mstate\u001b[0m\u001b[0;34m,\u001b[0m\u001b[0maction\u001b[0m\u001b[0;34m,\u001b[0m\u001b[0mreward\u001b[0m\u001b[0;34m,\u001b[0m\u001b[0mn_state\u001b[0m\u001b[0;34m,\u001b[0m\u001b[0mdone\u001b[0m\u001b[0;34m)\u001b[0m \u001b[0;31m#Push values to buffer\u001b[0m\u001b[0;34m\u001b[0m\u001b[0;34m\u001b[0m\u001b[0m\n\u001b[1;32m     96\u001b[0m     \u001b[0;32mif\u001b[0m \u001b[0mlen\u001b[0m\u001b[0;34m(\u001b[0m\u001b[0mreplay_buffer\u001b[0m\u001b[0;34m)\u001b[0m\u001b[0;34m>\u001b[0m\u001b[0mbatch_size\u001b[0m\u001b[0;34m:\u001b[0m\u001b[0;34m\u001b[0m\u001b[0;34m\u001b[0m\u001b[0m\n\u001b[0;32m---> 97\u001b[0;31m       \u001b[0mpolicy_loss\u001b[0m\u001b[0;34m,\u001b[0m \u001b[0mvalue_loss\u001b[0m\u001b[0;34m,\u001b[0m \u001b[0mvalue\u001b[0m\u001b[0;34m,\u001b[0m \u001b[0mexpected_value\u001b[0m \u001b[0;34m=\u001b[0m \u001b[0mddpg_update\u001b[0m\u001b[0;34m(\u001b[0m\u001b[0mbatch_size\u001b[0m\u001b[0;34m)\u001b[0m \u001b[0;31m#Perform DDPG update\u001b[0m\u001b[0;34m\u001b[0m\u001b[0;34m\u001b[0m\u001b[0m\n\u001b[0m\u001b[1;32m     98\u001b[0m \u001b[0;34m\u001b[0m\u001b[0m\n\u001b[1;32m     99\u001b[0m     \u001b[0mstate\u001b[0m \u001b[0;34m=\u001b[0m \u001b[0mnext_state\u001b[0m\u001b[0;34m\u001b[0m\u001b[0;34m\u001b[0m\u001b[0m\n",
      "\u001b[0;32m<ipython-input-13-0e7156f41381>\u001b[0m in \u001b[0;36mddpg_update\u001b[0;34m(batch_size, gamma, min_value, max_value, soft_tau)\u001b[0m\n\u001b[1;32m     10\u001b[0m   \u001b[0mpolicy_loss\u001b[0m \u001b[0;34m=\u001b[0m \u001b[0;34m-\u001b[0m\u001b[0mpolicy_loss\u001b[0m\u001b[0;34m.\u001b[0m\u001b[0mtype\u001b[0m\u001b[0;34m(\u001b[0m\u001b[0mtorch\u001b[0m\u001b[0;34m.\u001b[0m\u001b[0mFloatTensor\u001b[0m\u001b[0;34m)\u001b[0m\u001b[0;34m.\u001b[0m\u001b[0mmean\u001b[0m\u001b[0;34m(\u001b[0m\u001b[0;34m)\u001b[0m\u001b[0;34m\u001b[0m\u001b[0;34m\u001b[0m\u001b[0m\n\u001b[1;32m     11\u001b[0m \u001b[0;34m\u001b[0m\u001b[0m\n\u001b[0;32m---> 12\u001b[0;31m   \u001b[0mnext_action\u001b[0m \u001b[0;34m=\u001b[0m \u001b[0mtarget_policy_net\u001b[0m\u001b[0;34m(\u001b[0m\u001b[0mnext_state\u001b[0m\u001b[0;34m)\u001b[0m \u001b[0;31m#Predict next action using target actor network\u001b[0m\u001b[0;34m\u001b[0m\u001b[0;34m\u001b[0m\u001b[0m\n\u001b[0m\u001b[1;32m     13\u001b[0m   \u001b[0mtarget_value\u001b[0m \u001b[0;34m=\u001b[0m \u001b[0mtarget_value_net\u001b[0m\u001b[0;34m(\u001b[0m\u001b[0mstate\u001b[0m\u001b[0;34m,\u001b[0m\u001b[0mnext_action\u001b[0m\u001b[0;34m.\u001b[0m\u001b[0mdetach\u001b[0m\u001b[0;34m(\u001b[0m\u001b[0;34m)\u001b[0m\u001b[0;34m)\u001b[0m \u001b[0;31m#Obtain target value\u001b[0m\u001b[0;34m\u001b[0m\u001b[0;34m\u001b[0m\u001b[0m\n\u001b[1;32m     14\u001b[0m   \u001b[0mexpected_value\u001b[0m \u001b[0;34m=\u001b[0m \u001b[0mtorch\u001b[0m\u001b[0;34m.\u001b[0m\u001b[0mFloatTensor\u001b[0m\u001b[0;34m(\u001b[0m\u001b[0mreward\u001b[0m \u001b[0;34m+\u001b[0m \u001b[0;34m(\u001b[0m\u001b[0;36m1\u001b[0m\u001b[0;34m-\u001b[0m\u001b[0mdone\u001b[0m\u001b[0;34m)\u001b[0m\u001b[0;34m*\u001b[0m\u001b[0mgamma\u001b[0m\u001b[0;34m*\u001b[0m\u001b[0mtarget_value\u001b[0m\u001b[0;34m)\u001b[0m \u001b[0;31m#Expected value (taking into account long-term gain)\u001b[0m\u001b[0;34m\u001b[0m\u001b[0;34m\u001b[0m\u001b[0m\n",
      "\u001b[0;32m/usr/local/lib/python3.6/dist-packages/torch/nn/modules/module.py\u001b[0m in \u001b[0;36m__call__\u001b[0;34m(self, *input, **kwargs)\u001b[0m\n\u001b[1;32m    530\u001b[0m             \u001b[0mresult\u001b[0m \u001b[0;34m=\u001b[0m \u001b[0mself\u001b[0m\u001b[0;34m.\u001b[0m\u001b[0m_slow_forward\u001b[0m\u001b[0;34m(\u001b[0m\u001b[0;34m*\u001b[0m\u001b[0minput\u001b[0m\u001b[0;34m,\u001b[0m \u001b[0;34m**\u001b[0m\u001b[0mkwargs\u001b[0m\u001b[0;34m)\u001b[0m\u001b[0;34m\u001b[0m\u001b[0;34m\u001b[0m\u001b[0m\n\u001b[1;32m    531\u001b[0m         \u001b[0;32melse\u001b[0m\u001b[0;34m:\u001b[0m\u001b[0;34m\u001b[0m\u001b[0;34m\u001b[0m\u001b[0m\n\u001b[0;32m--> 532\u001b[0;31m             \u001b[0mresult\u001b[0m \u001b[0;34m=\u001b[0m \u001b[0mself\u001b[0m\u001b[0;34m.\u001b[0m\u001b[0mforward\u001b[0m\u001b[0;34m(\u001b[0m\u001b[0;34m*\u001b[0m\u001b[0minput\u001b[0m\u001b[0;34m,\u001b[0m \u001b[0;34m**\u001b[0m\u001b[0mkwargs\u001b[0m\u001b[0;34m)\u001b[0m\u001b[0;34m\u001b[0m\u001b[0;34m\u001b[0m\u001b[0m\n\u001b[0m\u001b[1;32m    533\u001b[0m         \u001b[0;32mfor\u001b[0m \u001b[0mhook\u001b[0m \u001b[0;32min\u001b[0m \u001b[0mself\u001b[0m\u001b[0;34m.\u001b[0m\u001b[0m_forward_hooks\u001b[0m\u001b[0;34m.\u001b[0m\u001b[0mvalues\u001b[0m\u001b[0;34m(\u001b[0m\u001b[0;34m)\u001b[0m\u001b[0;34m:\u001b[0m\u001b[0;34m\u001b[0m\u001b[0;34m\u001b[0m\u001b[0m\n\u001b[1;32m    534\u001b[0m             \u001b[0mhook_result\u001b[0m \u001b[0;34m=\u001b[0m \u001b[0mhook\u001b[0m\u001b[0;34m(\u001b[0m\u001b[0mself\u001b[0m\u001b[0;34m,\u001b[0m \u001b[0minput\u001b[0m\u001b[0;34m,\u001b[0m \u001b[0mresult\u001b[0m\u001b[0;34m)\u001b[0m\u001b[0;34m\u001b[0m\u001b[0;34m\u001b[0m\u001b[0m\n",
      "\u001b[0;32m<ipython-input-12-2ff857834399>\u001b[0m in \u001b[0;36mforward\u001b[0;34m(self, input)\u001b[0m\n\u001b[1;32m      9\u001b[0m \u001b[0;34m\u001b[0m\u001b[0m\n\u001b[1;32m     10\u001b[0m     \u001b[0;32mdef\u001b[0m \u001b[0mforward\u001b[0m\u001b[0;34m(\u001b[0m\u001b[0mself\u001b[0m\u001b[0;34m,\u001b[0m \u001b[0minput\u001b[0m\u001b[0;34m)\u001b[0m\u001b[0;34m:\u001b[0m\u001b[0;34m\u001b[0m\u001b[0;34m\u001b[0m\u001b[0m\n\u001b[0;32m---> 11\u001b[0;31m         \u001b[0mx\u001b[0m \u001b[0;34m=\u001b[0m \u001b[0mself\u001b[0m\u001b[0;34m.\u001b[0m\u001b[0mconv1\u001b[0m\u001b[0;34m(\u001b[0m\u001b[0minput\u001b[0m\u001b[0;34m)\u001b[0m\u001b[0;34m\u001b[0m\u001b[0;34m\u001b[0m\u001b[0m\n\u001b[0m\u001b[1;32m     12\u001b[0m         \u001b[0mx\u001b[0m \u001b[0;34m=\u001b[0m \u001b[0mF\u001b[0m\u001b[0;34m.\u001b[0m\u001b[0mrelu\u001b[0m\u001b[0;34m(\u001b[0m\u001b[0mx\u001b[0m\u001b[0;34m)\u001b[0m\u001b[0;34m\u001b[0m\u001b[0;34m\u001b[0m\u001b[0m\n\u001b[1;32m     13\u001b[0m         \u001b[0mx\u001b[0m \u001b[0;34m=\u001b[0m \u001b[0mself\u001b[0m\u001b[0;34m.\u001b[0m\u001b[0mprimaryCaps\u001b[0m\u001b[0;34m(\u001b[0m\u001b[0mx\u001b[0m\u001b[0;34m)\u001b[0m\u001b[0;34m\u001b[0m\u001b[0;34m\u001b[0m\u001b[0m\n",
      "\u001b[0;32m/usr/local/lib/python3.6/dist-packages/torch/nn/modules/module.py\u001b[0m in \u001b[0;36m__call__\u001b[0;34m(self, *input, **kwargs)\u001b[0m\n\u001b[1;32m    530\u001b[0m             \u001b[0mresult\u001b[0m \u001b[0;34m=\u001b[0m \u001b[0mself\u001b[0m\u001b[0;34m.\u001b[0m\u001b[0m_slow_forward\u001b[0m\u001b[0;34m(\u001b[0m\u001b[0;34m*\u001b[0m\u001b[0minput\u001b[0m\u001b[0;34m,\u001b[0m \u001b[0;34m**\u001b[0m\u001b[0mkwargs\u001b[0m\u001b[0;34m)\u001b[0m\u001b[0;34m\u001b[0m\u001b[0;34m\u001b[0m\u001b[0m\n\u001b[1;32m    531\u001b[0m         \u001b[0;32melse\u001b[0m\u001b[0;34m:\u001b[0m\u001b[0;34m\u001b[0m\u001b[0;34m\u001b[0m\u001b[0m\n\u001b[0;32m--> 532\u001b[0;31m             \u001b[0mresult\u001b[0m \u001b[0;34m=\u001b[0m \u001b[0mself\u001b[0m\u001b[0;34m.\u001b[0m\u001b[0mforward\u001b[0m\u001b[0;34m(\u001b[0m\u001b[0;34m*\u001b[0m\u001b[0minput\u001b[0m\u001b[0;34m,\u001b[0m \u001b[0;34m**\u001b[0m\u001b[0mkwargs\u001b[0m\u001b[0;34m)\u001b[0m\u001b[0;34m\u001b[0m\u001b[0;34m\u001b[0m\u001b[0m\n\u001b[0m\u001b[1;32m    533\u001b[0m         \u001b[0;32mfor\u001b[0m \u001b[0mhook\u001b[0m \u001b[0;32min\u001b[0m \u001b[0mself\u001b[0m\u001b[0;34m.\u001b[0m\u001b[0m_forward_hooks\u001b[0m\u001b[0;34m.\u001b[0m\u001b[0mvalues\u001b[0m\u001b[0;34m(\u001b[0m\u001b[0;34m)\u001b[0m\u001b[0;34m:\u001b[0m\u001b[0;34m\u001b[0m\u001b[0;34m\u001b[0m\u001b[0m\n\u001b[1;32m    534\u001b[0m             \u001b[0mhook_result\u001b[0m \u001b[0;34m=\u001b[0m \u001b[0mhook\u001b[0m\u001b[0;34m(\u001b[0m\u001b[0mself\u001b[0m\u001b[0;34m,\u001b[0m \u001b[0minput\u001b[0m\u001b[0;34m,\u001b[0m \u001b[0mresult\u001b[0m\u001b[0;34m)\u001b[0m\u001b[0;34m\u001b[0m\u001b[0;34m\u001b[0m\u001b[0m\n",
      "\u001b[0;32m/usr/local/lib/python3.6/dist-packages/torch/nn/modules/conv.py\u001b[0m in \u001b[0;36mforward\u001b[0;34m(self, input)\u001b[0m\n\u001b[1;32m    343\u001b[0m \u001b[0;34m\u001b[0m\u001b[0m\n\u001b[1;32m    344\u001b[0m     \u001b[0;32mdef\u001b[0m \u001b[0mforward\u001b[0m\u001b[0;34m(\u001b[0m\u001b[0mself\u001b[0m\u001b[0;34m,\u001b[0m \u001b[0minput\u001b[0m\u001b[0;34m)\u001b[0m\u001b[0;34m:\u001b[0m\u001b[0;34m\u001b[0m\u001b[0;34m\u001b[0m\u001b[0m\n\u001b[0;32m--> 345\u001b[0;31m         \u001b[0;32mreturn\u001b[0m \u001b[0mself\u001b[0m\u001b[0;34m.\u001b[0m\u001b[0mconv2d_forward\u001b[0m\u001b[0;34m(\u001b[0m\u001b[0minput\u001b[0m\u001b[0;34m,\u001b[0m \u001b[0mself\u001b[0m\u001b[0;34m.\u001b[0m\u001b[0mweight\u001b[0m\u001b[0;34m)\u001b[0m\u001b[0;34m\u001b[0m\u001b[0;34m\u001b[0m\u001b[0m\n\u001b[0m\u001b[1;32m    346\u001b[0m \u001b[0;34m\u001b[0m\u001b[0m\n\u001b[1;32m    347\u001b[0m \u001b[0;32mclass\u001b[0m \u001b[0mConv3d\u001b[0m\u001b[0;34m(\u001b[0m\u001b[0m_ConvNd\u001b[0m\u001b[0;34m)\u001b[0m\u001b[0;34m:\u001b[0m\u001b[0;34m\u001b[0m\u001b[0;34m\u001b[0m\u001b[0m\n",
      "\u001b[0;32m/usr/local/lib/python3.6/dist-packages/torch/nn/modules/conv.py\u001b[0m in \u001b[0;36mconv2d_forward\u001b[0;34m(self, input, weight)\u001b[0m\n\u001b[1;32m    340\u001b[0m                             _pair(0), self.dilation, self.groups)\n\u001b[1;32m    341\u001b[0m         return F.conv2d(input, weight, self.bias, self.stride,\n\u001b[0;32m--> 342\u001b[0;31m                         self.padding, self.dilation, self.groups)\n\u001b[0m\u001b[1;32m    343\u001b[0m \u001b[0;34m\u001b[0m\u001b[0m\n\u001b[1;32m    344\u001b[0m     \u001b[0;32mdef\u001b[0m \u001b[0mforward\u001b[0m\u001b[0;34m(\u001b[0m\u001b[0mself\u001b[0m\u001b[0;34m,\u001b[0m \u001b[0minput\u001b[0m\u001b[0;34m)\u001b[0m\u001b[0;34m:\u001b[0m\u001b[0;34m\u001b[0m\u001b[0;34m\u001b[0m\u001b[0m\n",
      "\u001b[0;31mKeyboardInterrupt\u001b[0m: "
     ]
    }
   ],
   "source": [
    "def preprocess(I): #Preprocess the Image\n",
    "  I = I[35:195] # crop\n",
    "  I = I[::2,::2,0] # downsample by factor of 2\n",
    "  I[I == 144] = 0 # erase background (background type 1)\n",
    "  I[I == 109] = 0 # erase background (background type 2)\n",
    "  I[I != 0] = 1 # everything else (paddles, ball) just set to 1\n",
    "  I = np.expand_dims(I,axis=0)\n",
    "  # caps_img = np.swapaxes(I,axis1=0,axis2=2) #shape=(3,160,210)\n",
    "  return I\n",
    "\n",
    "\n",
    "env = gym.make('Breakout-v0') #Make the Environment\n",
    "ou_noise = OUNoise(env) #Initialize OU Process\n",
    "\n",
    "state_dim = (1, 80, 80)\n",
    "action_dim = 4 #Number of actions\n",
    "hidden_dim = 256 #Number of hidden units\n",
    "\n",
    "value_net = ValueNetwork(action_dim,3).to(device) #Initialize Value Network\n",
    "policy_net = PolicyNetwork1(action_dim,3).to(device)\n",
    "\n",
    "target_value_net = ValueNetwork(action_dim,3).to(device) #Initialize Target Value Network\n",
    "target_policy_net = PolicyNetwork1(action_dim,3).to(device) #Initialize Target Actor Network\n",
    "\n",
    "for target_param,param in zip(target_value_net.parameters(),value_net.parameters()): \n",
    "  target_param.data.copy_(param.data)\n",
    "\n",
    "for target_param,param in zip(target_policy_net.parameters(),policy_net.parameters()):\n",
    "  target_param.data.copy_(param.data)\n",
    "\n",
    "value_lr = 1e-3\n",
    "policy_lr = 2e-4\n",
    "\n",
    "value_optimizer = optim.Adam(value_net.parameters(),lr=value_lr)\n",
    "policy_optimizer = optim.Adam(policy_net.parameters(),lr=policy_lr)\n",
    "\n",
    "value_critierion = nn.MSELoss()\n",
    "\n",
    "load_model = True #Remember to update the name of json file \n",
    "#Load Pre-trained Models from checkpoints\n",
    "if load_model==True:\n",
    "  #Load Policy Net\n",
    "  policy_checkpoint = torch.load(checkpoint_name+'/policy_net.pth.tar') \n",
    "  policy_net.load_state_dict(policy_checkpoint['model_state_dict'])\n",
    "  policy_optimizer.load_state_dict(policy_checkpoint['optimizer_state_dict'])\n",
    "  policy_loss = policy_checkpoint['loss']\n",
    "  #Load Value Net\n",
    "  value_checkpoint = torch.load(checkpoint_name+'/value_net.pth.tar')\n",
    "  value_net.load_state_dict(value_checkpoint['model_state_dict'])\n",
    "  value_optimizer.load_state_dict(value_checkpoint['optimizer_state_dict'])\n",
    "  value_loss = value_checkpoint['loss']\n",
    "  #Load Target Policy Net\n",
    "  target_policy_checkpoint = torch.load(checkpoint_name+'/target_policy_net.pth.tar') \n",
    "  target_policy_net.load_state_dict(target_policy_checkpoint['model_state_dict'])\n",
    "  #Load Target Value Net\n",
    "  target_value_checkpoint = torch.load(checkpoint_name+'/value_net.pth.tar')\n",
    "  target_value_net.load_state_dict(target_value_checkpoint['model_state_dict'])\n",
    "\n",
    "\n",
    "replay_buffer_size = 1000000\n",
    "replay_buffer = ReplayBuffer(replay_buffer_size) #Initialize Replay Buffer\n",
    "\n",
    "max_frames  = 300000 #Frames\n",
    "max_steps   = 500 #Steps\n",
    "frame_idx   = 0\n",
    "rewards     = []\n",
    "roll_avg_rewards = []\n",
    "P_loss = []\n",
    "V_loss = []\n",
    "values = []\n",
    "expected_values = []\n",
    "batch_size  = 64\n",
    "\n",
    "for j in range(1,101):\n",
    "  print('Episode- ', str(j))\n",
    "  prev_state = None\n",
    "  state = env.reset() #Reset the Environment\n",
    "  ou_noise.reset()\n",
    "  episode_reward = 0\n",
    "\n",
    "  for step in range(max_steps): #Iterate over steps\n",
    "    imsave(drive_name+'/'+str(frame_idx)+'.png', state)\n",
    "    # plt.figure()\n",
    "    # plt.imshow(state) #Plot frames from the game screen\n",
    "    state = preprocess(state) #Process the current state as input image\n",
    "    if prev_state is None:\n",
    "      prev_state = np.zeros(state_dim)\n",
    "    prev_state = state\n",
    "    action = policy_net.get_action(state) #Sample action from Actor Network\n",
    "    action = ou_noise.get_action(action,step) #Apply OU Process\n",
    "    action = np.argmax(action, axis=0) #Select the best action\n",
    "    next_state,reward,done,_ = env.step(action) #Execute action and observe next_state,reward\n",
    "    n_state = preprocess(next_state) #Porcess next_state as image\n",
    "    \n",
    "    replay_buffer.push(state,action,reward,n_state,done) #Push values to buffer\n",
    "    if len(replay_buffer)>batch_size:\n",
    "      policy_loss, value_loss, value, expected_value = ddpg_update(batch_size) #Perform DDPG update\n",
    "      \n",
    "    state = next_state \n",
    "    episode_reward += reward #Increment reward\n",
    "    frame_idx += 1\n",
    "\n",
    "    if done:\n",
    "      break\n",
    "  torch.save({'model_state_dict': policy_net.state_dict(), 'optimizer_state_dict': policy_optimizer.state_dict(), 'loss': policy_loss},checkpoint_name+'/policy_net.pth.tar') #save PolicyNet\n",
    "  torch.save({'model_state_dict': value_net.state_dict(), 'optimizer_state_dict': value_optimizer.state_dict(), 'loss': value_loss},checkpoint_name+'/value_net.pth.tar') #save ValueNet\n",
    "  torch.save({'model_state_dict': target_policy_net.state_dict(), 'optimizer_state_dict': policy_optimizer.state_dict(), 'loss': policy_loss},checkpoint_name+'/target_policy_net.pth.tar') #save Target PolicyNet\n",
    "  torch.save({'model_state_dict': target_value_net.state_dict(), 'optimizer_state_dict': value_optimizer.state_dict(), 'loss': value_loss},checkpoint_name+'/target_value_net.pth.tar') #save Target ValueNet\n",
    "  data = {}\n",
    "  data['reward'] = rewards\n",
    "  data['roll_avg_rewards'] = roll_avg_rewards\n",
    "  data['P_loss'] = P_loss\n",
    "  data['V_loss'] = V_loss\n",
    "  data['values'] = values\n",
    "  data['expected_values'] = expected_values\n",
    "  with open(checkpoint_name+'/data.json', 'w') as f: #data+'no of episodes ended up at'\n",
    "    json.dump(data, f)\n",
    "\n",
    "  rewards.append(episode_reward) #Store rewards\n",
    "  roll_avg_rewards.append((sum(roll_avg_rewards)+episode_reward)/(len(roll_avg_rewards)+1))\n",
    "  P_loss.append(policy_loss)\n",
    "  V_loss.append(value_loss)\n",
    "  values.append(value)\n",
    "  expected_values.append(expected_value)\n"
   ]
  },
  {
   "cell_type": "markdown",
   "metadata": {
    "colab_type": "text",
    "id": "kEgmSGoF4MGI"
   },
   "source": [
    "### 8. Plot Results"
   ]
  },
  {
   "cell_type": "code",
   "execution_count": 0,
   "metadata": {
    "colab": {
     "base_uri": "https://localhost:8080/",
     "height": 1000
    },
    "colab_type": "code",
    "id": "rFdh9JBM4MxX",
    "outputId": "d5e36ede-88b2-4047-f6ad-f6010083501a"
   },
   "outputs": [
    {
     "data": {
      "image/png": "[encoded data removed]",
      "text/plain": [
       "<Figure size 432x288 with 1 Axes>"
      ]
     },
     "metadata": {
      "tags": []
     },
     "output_type": "display_data"
    },
    {
     "data": {
      "image/png": "[encoded data removed]",
      "text/plain": [
       "<Figure size 432x288 with 1 Axes>"
      ]
     },
     "metadata": {
      "tags": []
     },
     "output_type": "display_data"
    },
    {
     "data": {
      "image/png": "[encoded data removed]",
      "text/plain": [
       "<Figure size 432x288 with 1 Axes>"
      ]
     },
     "metadata": {
      "tags": []
     },
     "output_type": "display_data"
    },
    {
     "data": {
      "image/png": "[encoded data removed]",
      "text/plain": [
       "<Figure size 432x288 with 1 Axes>"
      ]
     },
     "metadata": {
      "tags": []
     },
     "output_type": "display_data"
    },
    {
     "data": {
      "image/png": "[encoded data removed]",
      "text/plain": [
       "<Figure size 432x288 with 1 Axes>"
      ]
     },
     "metadata": {
      "tags": []
     },
     "output_type": "display_data"
    }
   ],
   "source": [
    "def plot(roll_avg_rewards, rewards, P_loss, V_loss, values): #Plot rewards over episodes\n",
    "    # Plot Average Reward\n",
    "    plt.figure()\n",
    "    plt.title('avg reward: %s' % (roll_avg_rewards[-1]))\n",
    "    plt.plot(roll_avg_rewards)\n",
    "    plt.show()\n",
    "    # Plot Average Reward\n",
    "    plt.figure()\n",
    "    plt.title('reward: %s' % (rewards[-1]))\n",
    "    plt.plot(rewards)\n",
    "    plt.show()\n",
    "    # Plot Policy Loss\n",
    "    plt.figure()\n",
    "    plt.title('policy loss: %s' % (P_loss[-1]))\n",
    "    plt.plot(P_loss)\n",
    "    plt.show()\n",
    "    # Plot Value Loss\n",
    "    plt.figure()\n",
    "    plt.title('value loss: %s' % (V_loss[-1]))\n",
    "    plt.plot(V_loss)\n",
    "    plt.show()\n",
    "    # Plot Action Values\n",
    "    plt.figure()\n",
    "    plt.title('Action value: %s' % (values[-1]))\n",
    "    plt.plot(values)\n",
    "    plt.show()\n",
    "\n",
    "plot(roll_avg_rewards, rewards, P_loss, V_loss, values)"
   ]
  },
  {
   "cell_type": "markdown",
   "metadata": {
    "colab_type": "text",
    "id": "7hHqgKI_1R6b"
   },
   "source": [
    "### 9. Useful Resources\n",
    "\n",
    "1. DDPG Paper- https://arxiv.org/abs/1509.02971\n",
    "2. Q-Learning Paper- https://web.stanford.edu/class/psych209/Readings/MnihEtAlHassibis15NatureControlDeepRL.pdf\n",
    "3. Coursera- https://www.coursera.org/specializations/reinforcement-learning\n",
    "4. Policy Gradient Paper- http://proceedings.mlr.press/v32/silver14.pdf\n",
    "5. TowardsDataScience- https://towardsdatascience.com/deep-deterministic-policy-gradients-explained-2d94655a9b7b\n",
    "6. RL-Adventure (one of my favourite Github repositories)- https://github.com/higgsfield/RL-Adventure-2\n"
   ]
  },
  {
   "cell_type": "code",
   "execution_count": 0,
   "metadata": {
    "colab": {},
    "colab_type": "code",
    "id": "vLNzvpqFvy30"
   },
   "outputs": [],
   "source": []
  }
 ],
 "metadata": {
  "accelerator": "TPU",
  "colab": {
   "collapsed_sections": [],
   "machine_shape": "hm",
   "name": "DDPG-CapsNet.ipynb",
   "provenance": []
  },
  "kernelspec": {
   "display_name": "Python 3",
   "language": "python",
   "name": "python3"
  },
  "language_info": {
   "codemirror_mode": {
    "name": "ipython",
    "version": 3
   },
   "file_extension": ".py",
   "mimetype": "text/x-python",
   "name": "python",
   "nbconvert_exporter": "python",
   "pygments_lexer": "ipython3",
   "version": "3.7.3"
  }
 },
 "nbformat": 4,
 "nbformat_minor": 1
}
