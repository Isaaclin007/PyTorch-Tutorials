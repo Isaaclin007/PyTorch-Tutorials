{
 "cells": [
  {
   "cell_type": "markdown",
   "metadata": {
    "colab_type": "text",
    "id": "qNoJrOZNzWJM"
   },
   "source": [
    "<h1><center>Stock Order Executions using Hierarchical Reinforcement Learning</center></h1>\n",
    "\n",
    "This notebook will walk you through the portion of Hierarchical Reinforcement Learning using LSTMs. We will go over various important concepts such as Cooperation between agents and Hierarchical division of tasks. We will make use of a custom-designed stock trading environment wherein our agent will first predict the price at the next time-step and then make decisions of buying and selling shares. The agent constitutes of two sub-agents which work in cooperation and share the joint reward function $R$, i.e- $R_{1} = R_{2} = R$. The trading process is modeled as a Markov game presented as follows-  \n",
    "\n",
    "<center>$V_{\\pi^{1},\\pi^{2}}(s_{t}) = \\mathbb{E}[\\sum_{t \\geq 0} \\gamma^{t}R(s_{t},a_{t},s_{t+1})|a_{t}^{i}~\\pi^{i}(.,s_{t})]$</center>  \n",
    "\n",
    "Here, $\\pi^{i}$ indicates the policy corresponding to agent $i$ where $i \\in [1,2]$, $s_{t}$ is the state at time-step $t$, $a_{t}$ is the action executed at time-step $t$, $V_{\\pi^{1},\\pi^{2}}^{i}(s_{t})$ is the expected value, or value function, of long-term reward $R$ with $\\gamma$ being the discount factor. The Nash Equilibrium for the two-player cooperative Markov Game can be presented as-  \n",
    "\n",
    "<center>$\\pi^{*} = (\\pi^{1,*},\\pi^{2,*})$</center>  \n",
    "\n",
    "where $\\pi^{i,*}$ is the optimal policy corresponding to agent $i$ such that $i \\in [1,2]$ and $\\pi^{*}$ is the joint set of optimal policies of all agents."
   ]
  },
  {
   "cell_type": "markdown",
   "metadata": {
    "colab_type": "text",
    "id": "k5qq6okizWJP"
   },
   "source": [
    "## 1. Import Dependencies \n",
    "Let's import the relevant libraries which we would be using for our experiments. Mainly, we make use of PyTorch and Gym(by OpenAI) for the Q-Learning implementation. "
   ]
  },
  {
   "cell_type": "code",
   "execution_count": 1,
   "metadata": {
    "colab": {
     "base_uri": "https://localhost:8080/",
     "height": 309
    },
    "colab_type": "code",
    "id": "drRXXUehzWJQ",
    "outputId": "e1453bed-81a7-4fad-9326-f232533c4aa6"
   },
   "outputs": [
    {
     "name": "stdout",
     "output_type": "stream",
     "text": [
      "Go to this URL in a browser: https://accounts.google.com/o/oauth2/auth?client_id=947318989803-6bn6qk8qdgf4n4g3pfee6491hc0brc4i.apps.googleusercontent.com&redirect_uri=urn%3aietf%3awg%3aoauth%3a2.0%3aoob&response_type=code&scope=email%20https%3a%2f%2fwww.googleapis.com%2fauth%2fdocs.test%20https%3a%2f%2fwww.googleapis.com%2fauth%2fdrive%20https%3a%2f%2fwww.googleapis.com%2fauth%2fdrive.photos.readonly%20https%3a%2f%2fwww.googleapis.com%2fauth%2fpeopleapi.readonly\n",
      "\n",
      "Enter your authorization code:\n",
      "··········\n",
      "Mounted at /content/drive\n"
     ]
    },
    {
     "data": {
      "text/html": [
       "<p style=\"color: red;\">\n",
       "The default version of TensorFlow in Colab will soon switch to TensorFlow 2.x.<br>\n",
       "We recommend you <a href=\"https://www.tensorflow.org/guide/migrate\" target=\"_blank\">upgrade</a> now \n",
       "or ensure your notebook will continue to use TensorFlow 1.x via the <code>%tensorflow_version 1.x</code> magic:\n",
       "<a href=\"https://colab.research.google.com/notebooks/tensorflow_version.ipynb\" target=\"_blank\">more info</a>.</p>\n"
      ],
      "text/plain": [
       "<IPython.core.display.HTML object>"
      ]
     },
     "metadata": {
      "tags": []
     },
     "output_type": "display_data"
    },
    {
     "name": "stdout",
     "output_type": "stream",
     "text": [
      "WARNING:tensorflow:\n",
      "The TensorFlow contrib module will not be included in TensorFlow 2.0.\n",
      "For more information, please see:\n",
      "  * https://github.com/tensorflow/community/blob/master/rfcs/20180907-contrib-sunset.md\n",
      "  * https://github.com/tensorflow/addons\n",
      "  * https://github.com/tensorflow/io (for I/O related ops)\n",
      "If you depend on functionality not listed there, please file an issue.\n",
      "\n"
     ]
    }
   ],
   "source": [
    "from google.colab import drive\n",
    "user_name = '/content/drive'\n",
    "drive.mount(user_name, force_remount=True)\n",
    "\n",
    "#General Imports\n",
    "import gym\n",
    "import json\n",
    "import math\n",
    "import numpy as np\n",
    "import pandas as pd\n",
    "import pickle\n",
    "import matplotlib as mpl\n",
    "import matplotlib.pyplot as plt\n",
    "import random\n",
    "\n",
    "#Torch and Baseline Imports\n",
    "import torch\n",
    "import torch.nn as nn\n",
    "import torch.optim as optim\n",
    "import torch.nn.functional as F\n",
    "from torch.distributions import Normal\n",
    "from torch.autograd import Variable\n",
    "from torch.nn.utils import clip_grad_norm_, clip_grad_value_\n",
    "from stable_baselines.common.vec_env import DummyVecEnv\n",
    "\n",
    "checkpoint_name = '/content/drive/My Drive/Colab Notebooks/Code/Checkpoint-Trade'\n",
    "load_checkpoint = '/content/drive/My Drive/Colab Notebooks/Code/Checkpoints/'\n",
    "import sys\n",
    "sys.path.append('/content/drive/My Drive/Colab Notebooks/Code/')\n",
    "from Stock_Trade_Env import StockTradingEnv\n",
    "\n",
    "#Use GPU\n",
    "use_cuda = torch.cuda.is_available()\n",
    "device = torch.device('cuda' if use_cuda else 'cpu')"
   ]
  },
  {
   "cell_type": "markdown",
   "metadata": {
    "colab_type": "text",
    "id": "UR8qTfaszWJU"
   },
   "source": [
    "## 2. Replay Buffer\n",
    "Almost all Reinforcement Learning methods make use of a Replay Buffer which saves past experiences from a particular episode. Each $(state,action,reward,next_state)$ tuple is stored in the buffer so that the RL algorithm can be trained later when the episode is over."
   ]
  },
  {
   "cell_type": "code",
   "execution_count": 0,
   "metadata": {
    "colab": {},
    "colab_type": "code",
    "id": "hI9XtT3MzWJV"
   },
   "outputs": [],
   "source": [
    "class ReplayBuffer:\n",
    "  def __init__(self,capacity): \n",
    "    self.capacity = capacity\n",
    "    self.buffer = []\n",
    "    self.position = 0\n",
    "\n",
    "  def push(self, state,state_order,act,dec,reward,next_state,done):\n",
    "      state      = state.detach().cpu().numpy()\n",
    "      next_state = next_state\n",
    "      state_order = state_order.detach().cpu().numpy()\n",
    "      act = act.detach().cpu().numpy()\n",
    "      self.buffer.append((state,state_order,act,dec,reward,next_state,done))\n",
    "  \n",
    "  def sample(self, batch_size):\n",
    "      state,state_order,act,dec,reward,next_state,done = zip(*random.sample(self.buffer, batch_size))\n",
    "      return np.concatenate(state), np.concatenate(state_order), np.concatenate(act), dec, reward, np.concatenate(next_state), done\n",
    "  \n",
    "  def __len__(self):\n",
    "      return len(self.buffer)"
   ]
  },
  {
   "cell_type": "markdown",
   "metadata": {
    "colab_type": "text",
    "id": "ZJA_RPxGzWJY"
   },
   "source": [
    "## 3. The Trading Environment\n",
    "### 3.1 Create the Custom Environment\n",
    "It's time to create our reinforcement learning environment wherein our agent will interact with states, i.e- stock price values and receive rewards for making decisions. The value of reward will depend on the amount gained on the net value, i.- the price at which the agent bought/sold a share of the stock. Following are the functions required to create the environment-  \n",
    "$\\rightarrow$ An environment can be initialized by using the $class$ methods. This class would broadly consist of 3 functions and these are $reset$, $step$ and $render$. Let's have a look at them one-by-one.  \n",
    "$\\rightarrow$ The $reset$ function, as the name suggests, will reset the environment to a random state. In terms of our learning setup, it will yield the next price value from the sequence set to the agent.  \n",
    "$\\rightarrow$ The $step$ function will allow the model to take a step in the environment. The function would take the action from the agent as the input and output the $next-state$ and $reward$. Our environment will output another value called $done$ which is a boolean indicating the comletion of an episode.  \n",
    "$\\rightarrow$ The $render$ function will output the progress of the agent in the environment on the screen. This is typically useful for Atari 2600 domain wherein the environment renders $next-states$ as output screens from the game.  "
   ]
  },
  {
   "cell_type": "code",
   "execution_count": null,
   "metadata": {},
   "outputs": [],
   "source": [
    "import random\n",
    "import json\n",
    "import gym\n",
    "from gym import spaces\n",
    "import pandas as pd\n",
    "import numpy as np\n",
    "\n",
    "MAX_ACCOUNT_BALANCE = 2147483647\n",
    "MAX_NUM_SHARES = 2147483647\n",
    "MAX_SHARE_PRICE = 5000\n",
    "MAX_OPEN_POSITIONS = 5\n",
    "MAX_STEPS = 20000\n",
    "\n",
    "INITIAL_ACCOUNT_BALANCE = 10000\n",
    "\n",
    "\n",
    "class StockTradingEnv(gym.Env):\n",
    "    \"\"\"A stock trading environment for OpenAI gym\"\"\"\n",
    "    metadata = {'render.modes': ['human']}\n",
    "\n",
    "    def __init__(self, df):\n",
    "        super(StockTradingEnv, self).__init__()\n",
    "\n",
    "        self.df = df\n",
    "        self.reward_range = (0, MAX_ACCOUNT_BALANCE)\n",
    "\n",
    "        # Actions of the format Buy x%, Sell x%, Hold, etc.\n",
    "        self.action_space = spaces.Box(\n",
    "            low=np.array([0, 0]), high=np.array([3, 1]), dtype=np.float16)\n",
    "\n",
    "        # Prices contains the OHCL values for the last five prices\n",
    "        self.observation_space = spaces.Box(\n",
    "            low=0, high=1, shape=(6, 6), dtype=np.float16)\n",
    "        \n",
    "    def _next_observation(self):\n",
    "        # Get the stock data points for the last 5 days and scale to between 0-1\n",
    "        frame = np.array([\n",
    "            self.df.loc[self.current_step: self.current_step +\n",
    "                        5, 'Open'].values / MAX_SHARE_PRICE,\n",
    "            self.df.loc[self.current_step: self.current_step +\n",
    "                        5, 'High'].values / MAX_SHARE_PRICE,\n",
    "            self.df.loc[self.current_step: self.current_step +\n",
    "                        5, 'Low'].values / MAX_SHARE_PRICE,\n",
    "            self.df.loc[self.current_step: self.current_step +\n",
    "                        5, 'Close'].values / MAX_SHARE_PRICE,\n",
    "            self.df.loc[self.current_step: self.current_step +\n",
    "                        5, 'Volume'].values / MAX_NUM_SHARES,\n",
    "        ])\n",
    "\n",
    "        # Append additional data and scale each value to between 0-1\n",
    "        obs = np.append(frame, [[\n",
    "            self.balance / MAX_ACCOUNT_BALANCE,\n",
    "            self.max_net_worth / MAX_ACCOUNT_BALANCE,\n",
    "            self.shares_held / MAX_NUM_SHARES,\n",
    "            self.cost_basis / MAX_SHARE_PRICE,\n",
    "            self.total_shares_sold / MAX_NUM_SHARES,\n",
    "            self.total_sales_value / (MAX_NUM_SHARES * MAX_SHARE_PRICE),\n",
    "        ]], axis=0)\n",
    "\n",
    "        return obs\n",
    "\n",
    "    def _take_action(self, action):\n",
    "        # Set the current price to a random price within the time step\n",
    "        current_price = random.uniform(\n",
    "            self.df.loc[self.current_step, \"Open\"], self.df.loc[self.current_step, \"Close\"])\n",
    "\n",
    "        action_type = action[0]\n",
    "        amount = action[1]\n",
    "        \n",
    "        if action_type < 1:\n",
    "            # Buy amount % of balance in shares\n",
    "            total_possible = int(self.balance / current_price)\n",
    "            shares_bought = int(total_possible * amount)\n",
    "            prev_cost = self.cost_basis * self.shares_held\n",
    "            additional_cost = shares_bought * current_price\n",
    "\n",
    "            self.balance -= additional_cost\n",
    "            self.cost_basis = (\n",
    "                prev_cost + additional_cost) / (self.shares_held + shares_bought)\n",
    "            self.shares_held += shares_bought\n",
    "\n",
    "        elif action_type < 2:\n",
    "            # Sell amount % of shares held\n",
    "            shares_sold = int(self.shares_held * amount)\n",
    "            self.balance += shares_sold * current_price\n",
    "            self.shares_held -= shares_sold\n",
    "            self.total_shares_sold += shares_sold\n",
    "            self.total_sales_value += shares_sold * current_price\n",
    "\n",
    "        self.net_worth = self.balance + self.shares_held * current_price\n",
    "\n",
    "        if self.net_worth > self.max_net_worth:\n",
    "            self.max_net_worth = self.net_worth\n",
    "\n",
    "        if self.shares_held == 0:\n",
    "            self.cost_basis = 0\n",
    "\n",
    "    \n",
    "    def step(self,action):\n",
    "        # Execute one time step within the environment\n",
    "        self._take_action(action)\n",
    "\n",
    "        self.current_step += 1\n",
    "\n",
    "        if self.current_step > len(self.df.loc[:, 'Open'].values) - 6:\n",
    "            self.current_step = 0\n",
    "\n",
    "        delay_modifier = (self.current_step / MAX_STEPS)\n",
    "\n",
    "        reward = self.balance * delay_modifier\n",
    "        done = self.net_worth <= 0\n",
    "\n",
    "        obs = self._next_observation()\n",
    "        \n",
    "        return obs, reward, done, {}\n",
    "\n",
    "    def reset(self):\n",
    "        # Reset the state of the environment to an initial state\n",
    "        self.balance = INITIAL_ACCOUNT_BALANCE\n",
    "        self.net_worth = INITIAL_ACCOUNT_BALANCE\n",
    "        self.max_net_worth = INITIAL_ACCOUNT_BALANCE\n",
    "        self.shares_held = 0\n",
    "        self.cost_basis = 0\n",
    "        self.total_shares_sold = 0\n",
    "        self.total_sales_value = 0\n",
    "\n",
    "        # Set the current step to a random point within the data frame\n",
    "        self.current_step = random.randint(\n",
    "            0, len(self.df.loc[:, 'Open'].values) - 6)\n",
    "\n",
    "        return self._next_observation()\n",
    "\n",
    "    def render(self, mode='human', close=False):\n",
    "        # Render the environment to the screen\n",
    "        profit = self.net_worth - INITIAL_ACCOUNT_BALANCE\n",
    "#         print(f'Step: {self.current_step}')\n",
    "#         print(f'Balance: {self.balance}')\n",
    "#         print(\n",
    "#             f'Shares held: {self.shares_held} (Total sold: {self.total_shares_sold})')\n",
    "#         print(\n",
    "#             f'Avg cost for held shares: {self.cost_basis} (Total sales value: {self.total_sales_value})')\n",
    "#         print(\n",
    "#             f'Net worth: {self.net_worth} (Max net worth: {self.max_net_worth})')\n",
    "#         print(f'Profit: {profit}')\n",
    "        return self.balance, self.shares_held, self.total_shares_sold, self.cost_basis, self.total_sales_value, self.net_worth, profit\n",
    "        \n"
   ]
  },
  {
   "cell_type": "markdown",
   "metadata": {},
   "source": [
    "### 3.2 Pull Data\n",
    "Our environment will simulate a real market-like behavior by taking in values from a particular stock. We will download our stock data using the $yfinance$ library and feed it as a dataframe to the environment. "
   ]
  },
  {
   "cell_type": "code",
   "execution_count": 0,
   "metadata": {
    "colab": {
     "base_uri": "https://localhost:8080/",
     "height": 69
    },
    "colab_type": "code",
    "id": "S2m5PuENzWJZ",
    "outputId": "f24cb012-20d7-4883-fa90-1cf8af74f26d"
   },
   "outputs": [
    {
     "name": "stdout",
     "output_type": "stream",
     "text": [
      "(5427, 7)\n"
     ]
    },
    {
     "name": "stderr",
     "output_type": "stream",
     "text": [
      "/usr/local/lib/python3.6/dist-packages/gym/logger.py:30: UserWarning: \u001b[33mWARN: Box bound precision lowered by casting to float16\u001b[0m\n",
      "  warnings.warn(colorize('%s: %s'%('WARN', msg % args), 'yellow'))\n"
     ]
    }
   ],
   "source": [
    "ticker = 'NVDA'\n",
    "# data = yf.download(ticker, '2020-01-08', '2020-03-05', interval='2m')\n",
    "# data = data.to_csv('./data.csv')\n",
    "data = pd.read_csv('/content/drive/My Drive/Colab Notebooks/Code/data/'+ticker+'.csv')\n",
    "print(data.shape)\n",
    "env = DummyVecEnv([lambda: StockTradingEnv(data)])"
   ]
  },
  {
   "cell_type": "markdown",
   "metadata": {
    "colab_type": "text",
    "id": "URTVegmLzWJc"
   },
   "source": [
    "## 4. Model Instantiation \n",
    "Now we move on to the main step wherein we construct our agent and initialize all its parameters. We are using an LSTM model for along with Linear FC layers. We use a single layer in our model along with some dropout and a Dense layer.\n",
    "Recall the gated structure of each cell in the LSTM and the equations corresponding to its pass-  \n",
    "Forget Gate  \n",
    "<center>$f_{t} = \\sigma(W_{f}.[h_{t-1},x_{t}] + b_{f})$</center>  \n",
    "Input Gate-  \n",
    "<center>$\\bar{C_{t}} = tanh(W_{c}.[h_{t-1},x_{t}] + b_{c})$</center>  \n",
    "<center>$i_{t} = \\sigma(W_{i}.[h_{t-1},x_{t}] + b_{i})$</center>  \n",
    "Update Cell State-  \n",
    "<center>$ C_{t} = f_{t}*C_{t-1} + i_{t}*\\bar{C_{t}}$</center>  \n",
    "Output-  \n",
    "<center>$ o_{t} = \\sigma(W_{o}[h_{t-1},x_{t}] + b_{0})$</center>  \n"
   ]
  },
  {
   "cell_type": "markdown",
   "metadata": {
    "colab_type": "text",
    "id": "XqhjAaFBzWJd"
   },
   "source": [
    "### 4.1 Actor Network\n",
    "We will now make the first part of our agent, the manager network. The manager network will be responsible for predicting the price at the next-time step, i.e- the future value of the stock. Input to the manager network will be the state from the environment and output, the Q-value, will be treated as a scaled version of the price at the next time-step.In terms of the architecture, we keep our models simple by making use of LSTM cells and Linear layers with Dropout. "
   ]
  },
  {
   "cell_type": "code",
   "execution_count": 0,
   "metadata": {
    "colab": {},
    "colab_type": "code",
    "id": "IHR58FqQzWJf"
   },
   "outputs": [],
   "source": [
    "class ManagerNetwork(nn.Module): \n",
    "    def __init__(self, num_inputs, hidden_size):\n",
    "        super(ManagerNetwork, self).__init__()   \n",
    "        self.hidden_size = hidden_size\n",
    "        self.lstm = nn.LSTM(input_size=num_inputs,hidden_size=self.hidden_size,num_layers=1,batch_first=True, bidirectional=True)\n",
    "        self.dropout = nn.Dropout(0.2)\n",
    "        self.fc = nn.Linear(2*self.hidden_size,6)\n",
    "        \n",
    "    def forward(self, state): \n",
    "        h0 = torch.zeros(2, state.size(0), self.hidden_size).to(device) \n",
    "        c0 = torch.zeros(2, state.size(0), self.hidden_size).to(device)\n",
    "        out, _ = self.lstm(state, (h0, c0))\n",
    "        out = self.fc(out[:, -1, :])\n",
    "        return out\n",
    "\n",
    "    def act(self, state, epsilon):\n",
    "        pred = self.forward(state)\n",
    "        return pred"
   ]
  },
  {
   "cell_type": "markdown",
   "metadata": {
    "colab_type": "text",
    "id": "7ZnMl2_gzWJi"
   },
   "source": [
    "### 4.2 Order Network\n",
    "The order network will output the action for the bid, buy or sell. Input to the order network will be the state concatenated with the predicted price by the manager network."
   ]
  },
  {
   "cell_type": "code",
   "execution_count": 0,
   "metadata": {
    "colab": {},
    "colab_type": "code",
    "id": "LruSMDB4zWJj"
   },
   "outputs": [],
   "source": [
    "class OrderNetwork(nn.Module): \n",
    "    def __init__(self, num_inputs, num_actions, hidden_size):\n",
    "        super(OrderNetwork, self).__init__()  \n",
    "        self.hidden_size = hidden_size\n",
    "        self.num_actions = num_actions\n",
    "        self.lstm = nn.LSTM(input_size=num_inputs,hidden_size=self.hidden_size,num_layers=1,batch_first=True, bidirectional=True)\n",
    "        self.dropout = nn.Dropout(0.2)\n",
    "        self.fc = nn.Linear(2*self.hidden_size,self.num_actions)\n",
    "        \n",
    "    def forward(self, state): \n",
    "        h0 = torch.zeros(2, state.size(0), self.hidden_size).to(device) \n",
    "        c0 = torch.zeros(2, state.size(0), self.hidden_size).to(device)\n",
    "        out, _ = self.lstm(state, (h0, c0))\n",
    "        out = self.fc(out[:, -1, :])\n",
    "        out = F.softmax(out)\n",
    "        prob = max(out[0,:])\n",
    "        action = torch.argmax(out,dim=1)\n",
    "        return out, prob, action\n",
    "\n",
    "    def act(self, state, epsilon):\n",
    "          if random.random() > epsilon:\n",
    "            _, prob, action = self.forward(state)\n",
    "          else:\n",
    "              prob = random.uniform(0,1)\n",
    "              action = random.randint(0,1)\n",
    "          return prob, action"
   ]
  },
  {
   "cell_type": "markdown",
   "metadata": {
    "colab_type": "text",
    "id": "KMRkJnuUzWJn"
   },
   "source": [
    "## 5. Update Rule\n",
    "Now we will make our update rule for the multi-agent algorithm. We will make use of Q-Learning which updates our parameters based on the best/greedy Q-action value $\\underset{a}{max}Q(s^{'},a)$. Here, $s^{'}$ is the next state and $a$ is the action selected. The algorithm can be mathematically expressed as followed-,  \n",
    "$Initialize\\; Q(s,a), \\forall s \\in S, \\forall a \\in A, \\; Q(term\\_state,.) = 0$  \n",
    "$Repeat(for\\; each\\; episode):$  \n",
    "$\\qquad a,s \\leftarrow \\pi(s,a)$  \n",
    "$\\qquad execute\\quad a$  \n",
    "$\\qquad observe\\quad r,s^{'}$  \n",
    "$\\qquad Q(s,a)\\leftarrow Q(s,a) + \\alpha[r + \\gamma\\underset{a}{max}Q(s^{'},a) - Q(s,a)]$  \n",
    "$\\qquad s\\leftarrow s^{'}$  \n",
    "$until\\; s\\; is\\; terminal$  \n",
    "\n",
    "Notice that the update $Q(s,a)\\leftarrow Q(s,a) + \\alpha[r + \\gamma\\underset{a}{max}Q(s^{'},a) - Q(s,a)]$ is greedy w.r.t the policy $\\pi (s,a)$. Thus, Q-Learning will sample the best action value $\\underset{a}{argmax}Q(s,a)$ irrespective of exploration. Hence it is good practice to make the agent explore the environment sufficiently for long-horizon rewards.  \n",
    "Weight updates for our agents take similar form as the Q-updates-  \n",
    "\n",
    "<center>$w\\leftarrow w + \\alpha[r + \\gamma\\underset{a}{max}Q(s^{'},a,w) - Q(s,a,w)]\\nabla Q(s,a,w)$</center>  \n",
    "\n",
    "For our experiment, we will compute the TD Loss corresponding to each agent as the MSE difference between the Q-value and the expected Q-value ($\\underset{a}{max}Q(s^{'},a)$). Mathematically,  \n",
    "\n",
    "<center>$L = \\frac{1}{N}\\sum_{i}[Q(s,a) - \\underset{a}{max}Q(s^{'},a)]^{2}$</center>  \n",
    "\n",
    "The total loss will be the weighted sum of the manager and order network losses."
   ]
  },
  {
   "cell_type": "code",
   "execution_count": 0,
   "metadata": {
    "colab": {},
    "colab_type": "code",
    "id": "YDrPMMpLzWJo"
   },
   "outputs": [],
   "source": [
    "def compute_td_loss(batch_size):\n",
    "\n",
    "    state,state_order,act,dec,reward,next_state,done = replay_buffer.sample(batch_size)\n",
    "    \n",
    "    action_act = torch.LongTensor(act).to(device)\n",
    "    action_order = torch.LongTensor(dec).unsqueeze(1).to(device)\n",
    "    state      = torch.FloatTensor(np.float32(state)).to(device)\n",
    "    state_order      = torch.FloatTensor(state_order).to(device)\n",
    "    next_state = torch.FloatTensor(np.float32(next_state)).to(device)\n",
    "    reward     = torch.FloatTensor(reward).to(device)\n",
    "    done       = torch.FloatTensor(done).to(device)\n",
    "    \n",
    "    criterion = nn.SmoothL1Loss(reduction='none')\n",
    "\n",
    "    # Manager(Actor) Network\n",
    "    q_values_act      = policy_net_act(state)\n",
    "    next_q_values_act = policy_net_act(next_state)\n",
    "    q_value_act          = q_values_act.gather(1, action_act).squeeze(1)\n",
    "    next_q_value_act     = next_q_values_act#.max(1)[0]\n",
    "    norm = max(rewards) if rewards!=[] else 1\n",
    "    norm = torch.FloatTensor(norm).to(device)\n",
    "    expected_q_value_act = (reward/norm) + gamma * next_q_value_act * (1 - done)\n",
    "    act_loss = criterion(q_value_act,Variable(expected_q_value_act.data))\n",
    "    act_loss = torch.sum(torch.mean(act_loss,0))\n",
    "#     act_loss = (q_value_act - Variable(expected_q_value_act.data)).pow(2).mean() \n",
    "#     optimizer_act.zero_grad()\n",
    "#     act_loss.backward()\n",
    "#     optimizer_act.step()\n",
    "\n",
    "    # Order Network\n",
    "    q_values_order,_, _      = policy_net_order(state_order)\n",
    "    q_value_act = torch.unsqueeze(q_value_act,0).permute(1,0,2)\n",
    "    next_state_order = torch.cat([next_state,q_value_act],1).to(device)\n",
    "    next_q_values_order,_, _ = policy_net_order(next_state_order)\n",
    "    next_q_value_order     = next_q_values_order.unsqueeze(1).max(1)[0].type(torch.FloatTensor).to(device)\n",
    "    expected_q_value_order = (reward/norm) + gamma * next_q_value_order * (1 - done) \n",
    "    order_loss = criterion(q_values_order,Variable(expected_q_value_order.data))\n",
    "    order_loss = torch.sum(torch.mean(order_loss,0))\n",
    "#     order_loss = (torch.FloatTensor(q_values_order) - torch.FloatTensor(expected_q_value_order)).pow(2).mean()\n",
    "    total_loss = 0.5*act_loss + 0.5*order_loss\n",
    "    optimizer_order.zero_grad()\n",
    "    total_loss.backward()\n",
    "    clip_grad_value_(policy_net_act.parameters(), 0.2)\n",
    "    clip_grad_value_(policy_net_order.parameters(), 0.2)\n",
    "    optimizer_order.step()\n",
    " \n",
    "#     total_loss = 0.3*act_loss + 0.7*order_loss\n",
    "    \n",
    "    return order_loss.detach().cpu().numpy(), act_loss.detach().cpu().numpy(), total_loss.detach().cpu().numpy()"
   ]
  },
  {
   "cell_type": "markdown",
   "metadata": {
    "colab_type": "text",
    "id": "QRtMDXWuzWJr"
   },
   "source": [
    "## 6. Test Performance\n",
    "We write our main training loop in typical PyTorch style and allow the model to train for a fixed number of frames. We add a new paramter here called $epsilon$ which controls the amount of exploration of the agent. Typically a high starting value of $epsilon$ along with decay would help the agent gain sufficient knowledge of the environment."
   ]
  },
  {
   "cell_type": "code",
   "execution_count": 0,
   "metadata": {
    "colab": {
     "base_uri": "https://localhost:8080/",
     "height": 1000
    },
    "colab_type": "code",
    "id": "vdrvAXQszWJr",
    "outputId": "e22bfaed-c89a-43cb-9856-313e7e14b09f",
    "scrolled": true
   },
   "outputs": [
    {
     "name": "stdout",
     "output_type": "stream",
     "text": [
      "Launching Environment...\n",
      "Training Started...\n",
      "----------------------------------------------------------------------------------------------------\n"
     ]
    },
    {
     "name": "stderr",
     "output_type": "stream",
     "text": [
      "/usr/local/lib/python3.6/dist-packages/ipykernel_launcher.py:15: UserWarning: Implicit dimension choice for softmax has been deprecated. Change the call to include dim=X as an argument.\n",
      "  from ipykernel import kernelapp as app\n"
     ]
    },
    {
     "name": "stdout",
     "output_type": "stream",
     "text": [
      "Step- 1000 / 100000 | Profit- -666.7077617756204 | Model Loss- 0.15703018\n",
      "Step- 2000 / 100000 | Profit- -241.53187379114388 | Model Loss- 0.14510393\n",
      "Step- 3000 / 100000 | Profit- 422.7402731870152 | Model Loss- 0.114876464\n",
      "Step- 4000 / 100000 | Profit- 373.58739319170854 | Model Loss- 0.12930197\n",
      "Step- 5000 / 100000 | Profit- 326.94024644784076 | Model Loss- 0.106336385\n",
      "Step- 6000 / 100000 | Profit- -224.3854229051558 | Model Loss- 0.14435452\n",
      "Step- 7000 / 100000 | Profit- -362.2951979960417 | Model Loss- 0.19852427\n",
      "Step- 8000 / 100000 | Profit- -203.76319392513324 | Model Loss- 0.1953794\n",
      "Step- 9000 / 100000 | Profit- -367.39822416169227 | Model Loss- 0.14555328\n",
      "Step- 10000 / 100000 | Profit- -716.9492106799626 | Model Loss- 0.14169526\n",
      "Step- 11000 / 100000 | Profit- -1070.5350919235789 | Model Loss- 0.1731453\n",
      "Step- 12000 / 100000 | Profit- -1057.9795348011594 | Model Loss- 0.12280796\n",
      "Step- 13000 / 100000 | Profit- -645.0065656783081 | Model Loss- 0.12728891\n",
      "Step- 14000 / 100000 | Profit- -289.84510846238663 | Model Loss- 0.11126904\n",
      "Step- 15000 / 100000 | Profit- -724.4705347237505 | Model Loss- 0.18872419\n",
      "Step- 16000 / 100000 | Profit- -488.04164595971815 | Model Loss- 0.2011322\n",
      "Step- 17000 / 100000 | Profit- -528.6456153128456 | Model Loss- 0.17691642\n",
      "Step- 18000 / 100000 | Profit- -476.69169940766733 | Model Loss- 0.14609456\n",
      "Step- 19000 / 100000 | Profit- -409.5179556767798 | Model Loss- 0.16520606\n",
      "Step- 20000 / 100000 | Profit- -123.19034090421883 | Model Loss- 0.17346518\n",
      "Step- 21000 / 100000 | Profit- -189.60909859308777 | Model Loss- 0.11957486\n",
      "Step- 22000 / 100000 | Profit- -885.5046731647199 | Model Loss- 0.13485375\n",
      "Step- 23000 / 100000 | Profit- -970.9855617578105 | Model Loss- 0.19225034\n",
      "Step- 24000 / 100000 | Profit- -870.0239063593781 | Model Loss- 0.11035316\n",
      "Step- 25000 / 100000 | Profit- -286.0311697621146 | Model Loss- 0.1883568\n",
      "Step- 26000 / 100000 | Profit- -894.9710974313839 | Model Loss- 0.19791776\n",
      "Step- 27000 / 100000 | Profit- -811.6071654823572 | Model Loss- 0.11473787\n",
      "Step- 28000 / 100000 | Profit- -718.6874326967481 | Model Loss- 0.16596246\n",
      "Step- 29000 / 100000 | Profit- -603.3551763594132 | Model Loss- 0.19517212\n",
      "Step- 30000 / 100000 | Profit- 129.91016757820944 | Model Loss- 0.17221956\n",
      "Step- 31000 / 100000 | Profit- -155.08149897932526 | Model Loss- 0.12350875\n",
      "Step- 32000 / 100000 | Profit- -258.5296634764145 | Model Loss- 0.17599127\n",
      "Step- 33000 / 100000 | Profit- -391.3899377275484 | Model Loss- 0.12565818\n",
      "Step- 34000 / 100000 | Profit- -279.7296245407597 | Model Loss- 0.17233525\n",
      "Step- 35000 / 100000 | Profit- -274.78597154980343 | Model Loss- 0.2406832\n",
      "Step- 36000 / 100000 | Profit- 98.13296886202079 | Model Loss- 0.14837268\n",
      "Step- 37000 / 100000 | Profit- -149.12567605799632 | Model Loss- 0.14149448\n",
      "Step- 38000 / 100000 | Profit- 57.39353848605788 | Model Loss- 0.15737846\n",
      "Step- 39000 / 100000 | Profit- -18.868456410134968 | Model Loss- 0.13704866\n",
      "Step- 40000 / 100000 | Profit- 75.202610803477 | Model Loss- 0.1696289\n",
      "Step- 41000 / 100000 | Profit- 173.39394858619016 | Model Loss- 0.19941562\n",
      "Step- 42000 / 100000 | Profit- 179.6646717368294 | Model Loss- 0.17265563\n",
      "Step- 43000 / 100000 | Profit- 329.28836593353117 | Model Loss- 0.18626085\n",
      "Step- 44000 / 100000 | Profit- 208.51390660648394 | Model Loss- 0.12247828\n",
      "Step- 45000 / 100000 | Profit- 195.3342528217654 | Model Loss- 0.12671441\n",
      "Step- 46000 / 100000 | Profit- 331.72609099900365 | Model Loss- 0.11065656\n",
      "Step- 47000 / 100000 | Profit- 319.7519708757918 | Model Loss- 0.25828698\n",
      "Step- 48000 / 100000 | Profit- 312.6895631129155 | Model Loss- 0.15565039\n",
      "Step- 49000 / 100000 | Profit- 246.71490832513155 | Model Loss- 0.16969398\n",
      "Step- 50000 / 100000 | Profit- 316.50413699382625 | Model Loss- 0.26219627\n",
      "Step- 51000 / 100000 | Profit- 364.6027236498958 | Model Loss- 0.29627421\n",
      "Step- 52000 / 100000 | Profit- 477.1566708651426 | Model Loss- 0.115125656\n",
      "Step- 53000 / 100000 | Profit- 301.7750356009383 | Model Loss- 0.2614479\n",
      "Step- 54000 / 100000 | Profit- 557.7167970439314 | Model Loss- 0.24365479\n",
      "Step- 55000 / 100000 | Profit- 194.49122731226998 | Model Loss- 0.20580518\n",
      "Step- 56000 / 100000 | Profit- 606.2397339612944 | Model Loss- 0.17044261\n",
      "Step- 57000 / 100000 | Profit- 1921.0056373629814 | Model Loss- 0.19184\n",
      "Step- 58000 / 100000 | Profit- 1442.994674494439 | Model Loss- 0.18747923\n",
      "Step- 59000 / 100000 | Profit- 1004.3986594993912 | Model Loss- 0.23407772\n",
      "Step- 60000 / 100000 | Profit- 251.29441539640902 | Model Loss- 0.19654937\n",
      "Step- 61000 / 100000 | Profit- 277.1366081560027 | Model Loss- 0.14359444\n",
      "Step- 62000 / 100000 | Profit- 1112.586034163549 | Model Loss- 0.15375625\n",
      "Step- 63000 / 100000 | Profit- 2940.1850878892965 | Model Loss- 0.1527873\n",
      "Step- 64000 / 100000 | Profit- 956.25193316687 | Model Loss- 0.16404496\n",
      "Step- 65000 / 100000 | Profit- 1579.5952346091399 | Model Loss- 0.14957932\n",
      "Step- 66000 / 100000 | Profit- 945.408400524946 | Model Loss- 0.10522616\n",
      "Step- 67000 / 100000 | Profit- 1592.8041968355355 | Model Loss- 0.12167169\n",
      "Step- 68000 / 100000 | Profit- 3410.6853214769744 | Model Loss- 0.15322033\n",
      "Step- 69000 / 100000 | Profit- 2646.4594202411645 | Model Loss- 0.10439134\n",
      "Step- 70000 / 100000 | Profit- 3664.4972935279 | Model Loss- 0.10690777\n",
      "Step- 71000 / 100000 | Profit- 2140.8694412895893 | Model Loss- 0.15148544\n",
      "Step- 72000 / 100000 | Profit- 2290.9331981567084 | Model Loss- 0.09307738\n",
      "Step- 73000 / 100000 | Profit- 3319.8769029338055 | Model Loss- 0.10932856\n",
      "Step- 74000 / 100000 | Profit- 4826.714082622642 | Model Loss- 0.1184684\n",
      "Step- 75000 / 100000 | Profit- 1995.5910547823587 | Model Loss- 0.08774646\n",
      "Step- 76000 / 100000 | Profit- 1356.6872832057634 | Model Loss- 0.06998451\n",
      "Step- 77000 / 100000 | Profit- 1525.5994237141167 | Model Loss- 0.13747132\n",
      "Step- 78000 / 100000 | Profit- 2558.9473209704574 | Model Loss- 0.09661774\n",
      "Step- 79000 / 100000 | Profit- 4216.309929828054 | Model Loss- 0.09534172\n",
      "Step- 80000 / 100000 | Profit- 2531.438510568816 | Model Loss- 0.07267834\n",
      "Step- 81000 / 100000 | Profit- 2906.922128836857 | Model Loss- 0.06440705\n",
      "Step- 82000 / 100000 | Profit- 1599.6167018926571 | Model Loss- 0.08056679\n",
      "Step- 83000 / 100000 | Profit- 2091.5951879179374 | Model Loss- 0.0979812\n",
      "Step- 84000 / 100000 | Profit- 3006.6688564534543 | Model Loss- 0.05396692\n",
      "Step- 85000 / 100000 | Profit- 3855.6790809861104 | Model Loss- 0.08325658\n",
      "Step- 86000 / 100000 | Profit- 3272.6057698017175 | Model Loss- 0.05195997\n",
      "Step- 87000 / 100000 | Profit- 2335.008267740026 | Model Loss- 0.03488508\n",
      "Step- 88000 / 100000 | Profit- 2487.0246380363005 | Model Loss- 0.078103974\n",
      "Step- 89000 / 100000 | Profit- 3629.1553453440174 | Model Loss- 0.08383647\n",
      "Step- 90000 / 100000 | Profit- 5540.230456611038 | Model Loss- 0.06528163\n",
      "Step- 91000 / 100000 | Profit- 3358.7948702123867 | Model Loss- 0.06788874\n",
      "Step- 92000 / 100000 | Profit- 3931.0597334959075 | Model Loss- 0.06097521\n",
      "Step- 93000 / 100000 | Profit- 2047.832118639746 | Model Loss- 0.05864992\n",
      "Step- 94000 / 100000 | Profit- 2617.4374229915356 | Model Loss- 0.099421486\n",
      "Step- 95000 / 100000 | Profit- 4490.52635302753 | Model Loss- 0.10518868\n",
      "Step- 96000 / 100000 | Profit- 3579.6795999817095 | Model Loss- 0.05436772\n",
      "Step- 97000 / 100000 | Profit- 3345.2419949824744 | Model Loss- 0.071185365\n",
      "Step- 98000 / 100000 | Profit- 2342.5143056429715 | Model Loss- 0.05729881\n",
      "Step- 99000 / 100000 | Profit- 2371.0993366678376 | Model Loss- 0.07403673\n",
      "Step- 100000 / 100000 | Profit- 3351.5350859767095 | Model Loss- 0.065213054\n",
      "----------------------------------------------------------------------------------------------------\n",
      "Training Completed\n"
     ]
    }
   ],
   "source": [
    "replay_initial = 100\n",
    "replay_buffer = ReplayBuffer(100000)\n",
    "\n",
    "obs = env.reset()\n",
    "state_dim_act = obs.shape[2]\n",
    "state_dim_order = obs.shape[2]\n",
    "action_dim = 2\n",
    "print('Launching Environment...')\n",
    "batch_size = 32\n",
    "hidden_dim = 64\n",
    "\n",
    "policy_net_act = ManagerNetwork(state_dim_act,hidden_dim).to(device)\n",
    "policy_net_order = OrderNetwork(state_dim_order,action_dim,hidden_dim).to(device)\n",
    "policy_lr = 1e-3\n",
    "optimizer_order = optim.Adam(policy_net_order.parameters(),lr=policy_lr)\n",
    "\n",
    "ord_l = None\n",
    "act_l = None\n",
    "TD_Loss = None\n",
    "load_model = False \n",
    "if load_model==True:\n",
    "  #Load Actor Policy Net\n",
    "    policy_checkpoint = torch.load(checkpoint_name+'/policy_net_act.pth.tar',map_location='cpu') \n",
    "    policy_net_act.load_state_dict(policy_checkpoint['model_state_dict'])\n",
    "    optimizer_act.load_state_dict(policy_checkpoint['optimizer_state_dict'])\n",
    "    TD_Loss = policy_checkpoint['loss']\n",
    "  #Load Order Policy Net\n",
    "    policy_checkpoint = torch.load(checkpoint_name+'/policy_net_order.pth.tar',map_location='cpu') \n",
    "    policy_net_order.load_state_dict(policy_checkpoint['model_state_dict'])\n",
    "    optimizer_order.load_state_dict(policy_checkpoint['optimizer_state_dict'])\n",
    "    TD_Loss = policy_checkpoint['loss']\n",
    "\n",
    "num_frames  = 100000 #Steps\n",
    "rewards = [];loss_order = [];loss_actor = [];loss = [];profit = [];forecast = []\n",
    "gamma = 0.99\n",
    "\n",
    "epsilon_start = 0.90\n",
    "epsilon_final = 0.01\n",
    "epsilon_decay = 30000\n",
    "epsilon_by_frame = lambda frame_idx: epsilon_final + (epsilon_start - epsilon_final) * math.exp(-1. * frame_idx / epsilon_decay)\n",
    "\n",
    "print('Training Started...')\n",
    "print('-'*100)\n",
    "state = obs\n",
    "\n",
    "for frame_idx in range(1, num_frames + 1):\n",
    "    epsilon = epsilon_by_frame(frame_idx)\n",
    "    state = torch.FloatTensor(state).to(device)\n",
    "    act = policy_net_act.act(state, epsilon)\n",
    "    forecast.append(act)\n",
    "    state_order = torch.cat([state,torch.unsqueeze(act,0)],1).to(device)\n",
    "    order,dec = policy_net_order.act(state_order, epsilon)\n",
    "    action = np.array([dec,order])\n",
    "    action = np.expand_dims(action,axis=1)\n",
    "    action = action.T\n",
    "    next_state,reward,done,_ = env.step(action)\n",
    "    bal, s_held, s_sold, cost, sales, net, prof = env.render()\n",
    "        \n",
    "    replay_buffer.push(state,state_order,act,dec,reward,next_state,done)\n",
    "    \n",
    "    frame_idx += 1\n",
    "    state = next_state\n",
    "    \n",
    "    if len(replay_buffer) > replay_initial:\n",
    "        ord_l, act_l, TD_Loss = compute_td_loss(batch_size)\n",
    "    \n",
    "    if (frame_idx%1000)==0:\n",
    "        print('Step-', str(frame_idx), '/', str(num_frames), '| Profit-', prof,'| Model Loss-', ord_l)\n",
    "        torch.save({'model_state_dict': policy_net_act.state_dict(), 'optimizer_state_dict': optimizer_order.state_dict(), 'loss': TD_Loss},checkpoint_name+'/policy_net_act.pth.tar') #save PolicyNet\n",
    "        torch.save({'model_state_dict': policy_net_order.state_dict(), 'optimizer_state_dict': optimizer_order.state_dict(), 'loss': TD_Loss},checkpoint_name+'/policy_net_order.pth.tar') #save PolicyNet\n",
    "        \n",
    "    rewards.append(reward),loss.append(TD_Loss),loss_actor.append(act_l),loss_order.append(ord_l),profit.append(prof)\n",
    "    \n",
    "    if done:\n",
    "        state = env.reset()\n",
    "        \n",
    "data_save = {}\n",
    "data_save['prediction'] = forecast\n",
    "data_save['reward'] = profit;data_save['loss'] = loss;data_save['act_loss'] = loss_actor;data_save['order_loss'] = loss_order\n",
    "with open(checkpoint_name+'/data_save.pkl', 'wb') as f: #data+same as frame folder\n",
    "    pickle.dump(data_save, f)\n",
    "\n",
    "print('-'*100)\n",
    "print('Training Completed')\n"
   ]
  },
  {
   "cell_type": "markdown",
   "metadata": {
    "colab_type": "text",
    "id": "arGVT1IXzWJv"
   },
   "source": [
    "## 8. Plot Results\n",
    "Results are saved as $.pkl$ files and loaded to compare and observe the model's performance under different stocks. "
   ]
  },
  {
   "cell_type": "code",
   "execution_count": 7,
   "metadata": {
    "colab": {
     "base_uri": "https://localhost:8080/",
     "height": 121
    },
    "colab_type": "code",
    "id": "mfsVCMSfzWJv",
    "outputId": "66412adb-8121-4b9f-e34c-8e6a7a770a97"
   },
   "outputs": [
    {
     "name": "stdout",
     "output_type": "stream",
     "text": [
      "AAPL\n",
      "AMZN\n",
      "GOOGL\n",
      "MSFT\n",
      "NFLX\n",
      "NVDA\n"
     ]
    }
   ],
   "source": [
    "\n",
    "plot_lst = ['AAPL','AMZN','GOOGL','MSFT','NFLX','NVDA']\n",
    "attr = ['loss','act_loss','order_loss','reward','prediction']\n",
    "plot = {}\n",
    "\n",
    "for j in plot_lst:\n",
    "  dat = pickle.load(open(load_checkpoint+j+\"/data_save.pkl\", \"rb\"))\n",
    "  print(j)\n",
    "  for k in attr:\n",
    "      plot[j+k] = dat[k]\n",
    "      plot[j+k] = dat[k]\n",
    "      plot[j+k] = dat[k]\n",
    "      plot[j+k] = dat[k]\n",
    "      plot[j+k] = dat[k]\n",
    "      plot[j+k] = dat[k]\n"
   ]
  },
  {
   "cell_type": "code",
   "execution_count": 25,
   "metadata": {
    "colab": {
     "base_uri": "https://localhost:8080/",
     "height": 981
    },
    "colab_type": "code",
    "id": "louW9tgBzWJy",
    "outputId": "10086734-8d74-405e-98d9-f7b2384431ba"
   },
   "outputs": [
    {
     "data": {
      "text/plain": [
       "<matplotlib.legend.Legend at 0x7f8ecc0ce6d8>"
      ]
     },
     "execution_count": 25,
     "metadata": {
      "tags": []
     },
     "output_type": "execute_result"
    },
    {
     "name": "stderr",
     "output_type": "stream",
     "text": [
      "/usr/local/lib/python3.6/dist-packages/IPython/core/pylabtools.py:125: UserWarning: Creating legend with loc=\"best\" can be slow with large amounts of data.\n",
      "  fig.canvas.print_figure(bytes_io, **kw)\n"
     ]
    },
    {
     "data": {
      "image/png": "[encoded data removed]",
      "text/plain": [
       "<Figure size 1080x360 with 1 Axes>"
      ]
     },
     "metadata": {
      "tags": []
     },
     "output_type": "display_data"
    },
    {
     "data": {
      "image/png": "[encoded data removed]",
      "text/plain": [
       "<Figure size 1080x360 with 1 Axes>"
      ]
     },
     "metadata": {
      "tags": []
     },
     "output_type": "display_data"
    },
    {
     "data": {
      "image/png": "[encoded data removed]",
      "text/plain": [
       "<Figure size 1080x360 with 2 Axes>"
      ]
     },
     "metadata": {
      "tags": []
     },
     "output_type": "display_data"
    }
   ],
   "source": [
    "#Plot reward and loss\n",
    "plt.figure(figsize=(15,5))\n",
    "plt.plot(plot['MSFTloss'])\n",
    "plt.plot(plot['MSFTact_loss'])\n",
    "plt.plot(plot['MSFTorder_loss'])\n",
    "plt.legend(['Loss','Manager Loss','Order Loss'])\n",
    "\n",
    "plt.figure(figsize=(15,5))\n",
    "plt.plot(plot['MSFTreward'])\n",
    "plt.legend(['Reward'])\n",
    "\n",
    "predictions = []\n",
    "data = pd.read_csv('/content/drive/My Drive/Colab Notebooks/Code/data/'+'MSFT'+'.csv')\n",
    "for j in plot['MSFTprediction']:\n",
    "  predictions.append(j.data.cpu().numpy()[0,1])\n",
    "fig = plt.figure(figsize=(15,5))\n",
    "ax1 = fig.add_subplot(111)\n",
    "ax1.plot(predictions[3000:8450])\n",
    "plt.legend(['Forecast'],loc='lower right')\n",
    "ax2 = ax1.twinx()\n",
    "ax2.plot(data['Close'],'r-')\n",
    "plt.legend(['Data'],loc='upper right')\n"
   ]
  },
  {
   "cell_type": "code",
   "execution_count": 0,
   "metadata": {
    "colab": {},
    "colab_type": "code",
    "id": "En184bEBSjs-"
   },
   "outputs": [],
   "source": []
  },
  {
   "cell_type": "code",
   "execution_count": 0,
   "metadata": {
    "colab": {},
    "colab_type": "code",
    "id": "fdPYTiHzTtSO"
   },
   "outputs": [],
   "source": []
  }
 ],
 "metadata": {
  "accelerator": "GPU",
  "colab": {
   "collapsed_sections": [],
   "name": "HRL_Q.ipynb",
   "provenance": []
  },
  "kernelspec": {
   "display_name": "Python 3",
   "language": "python",
   "name": "python3"
  },
  "language_info": {
   "codemirror_mode": {
    "name": "ipython",
    "version": 3
   },
   "file_extension": ".py",
   "mimetype": "text/x-python",
   "name": "python",
   "nbconvert_exporter": "python",
   "pygments_lexer": "ipython3",
   "version": "3.7.3"
  }
 },
 "nbformat": 4,
 "nbformat_minor": 1
}
