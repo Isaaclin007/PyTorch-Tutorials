{
 "cells": [
  {
   "cell_type": "markdown",
   "metadata": {},
   "source": [
    "<h1><center> Playing Atari using Deep Q-Learning </center></h1>\n",
    "\n",
    "This notebook will introduce Q-Learning, one of the most famous algorithms in Reinforcement Learning which utilizes Neural Networks as function approximators. All tutorials in the Reinforcement Learning sections require prior knowledge of Deep Neural Networks and it is recommended that you have a look at the notebooks in the Deep Learning section.  \n",
    "\n",
    "We will be implementing Q-Learning using ConvNets to play the game of Pong in Atari 2600 domain. This is a naive replication of David Silver's paper titled [Human-level control through deep reinforcement\n",
    "learning](https://daiwk.github.io/assets/dqn.pdf). So let's get started!\n"
   ]
  },
  {
   "cell_type": "markdown",
   "metadata": {},
   "source": [
    "## 1. Import Dependencies\n",
    "\n",
    "We will use PyTorch and gym (by OpenAI) for our experiments as these are lightweight and easy to program."
   ]
  },
  {
   "cell_type": "code",
   "execution_count": 8,
   "metadata": {
    "colab": {
     "base_uri": "https://localhost:8080/",
     "height": 35
    },
    "colab_type": "code",
    "id": "buWMBu3PhvqU",
    "outputId": "ca9dc1df-3fcd-4f78-94f9-dd9a7a3ee911"
   },
   "outputs": [
    {
     "name": "stdout",
     "output_type": "stream",
     "text": [
      "Mounted at /content/drive\n"
     ]
    }
   ],
   "source": [
    "from google.colab import drive\n",
    "user_name = '/content/drive'\n",
    "drive.mount(user_name, force_remount=True)\n",
    "\n",
    "import math, random\n",
    "import gym\n",
    "import numpy as np\n",
    "import pickle as pkl\n",
    "from matplotlib.image import imsave\n",
    "import torch\n",
    "import torch.nn as nn\n",
    "import torch.optim as optim\n",
    "import torch.autograd as autograd \n",
    "import torch.nn.functional as F\n",
    "import matplotlib.pyplot as plt\n",
    "\n",
    "checkpoint_name = '/content/drive/My Drive/Colab Notebooks/Checkpoint'\n",
    "\n",
    "USE_CUDA = torch.cuda.is_available()\n",
    "device = torch.device('cuda' if USE_CUDA else 'cpu')\n",
    "Variable = lambda *args, **kwargs: autograd.Variable(*args, **kwargs).cuda() if USE_CUDA else autograd.Variable(*args, **kwargs)\n",
    "import sys\n",
    "sys.path.append('/content/drive/My Drive/Colab Notebooks/')\n",
    "from wrappers import make_atari, wrap_deepmind, wrap_pytorch"
   ]
  },
  {
   "cell_type": "markdown",
   "metadata": {},
   "source": [
    "## 2. Replay Buffer\n",
    "\n",
    "Almost all Reinforcement Learning methods make use of a Replay Buffer which saves past experiences from a particular episode. Each (state,action,reward,next_state) tuple is stored in the buffer so that the RL algorithm can be trained later when the episode is over."
   ]
  },
  {
   "cell_type": "code",
   "execution_count": 0,
   "metadata": {
    "colab": {},
    "colab_type": "code",
    "id": "ujTTJ-Pgjef3"
   },
   "outputs": [],
   "source": [
    "class ReplayBuffer:\n",
    "  def __init__(self,capacity): \n",
    "    self.capacity = capacity\n",
    "    self.buffer = []\n",
    "    self.position = 0\n",
    "\n",
    "  def push(self, state, action, reward, next_state, done):\n",
    "      state      = np.expand_dims(state, 0)\n",
    "      next_state = np.expand_dims(next_state, 0)\n",
    "          \n",
    "      self.buffer.append((state, action, reward, next_state, done))\n",
    "  \n",
    "  def sample(self, batch_size):\n",
    "      state, action, reward, next_state, done = zip(*random.sample(self.buffer, batch_size))\n",
    "      return np.concatenate(state), action, reward, np.concatenate(next_state), done\n",
    "  \n",
    "  def __len__(self):\n",
    "      return len(self.buffer)"
   ]
  },
  {
   "cell_type": "markdown",
   "metadata": {},
   "source": [
    "## 3. ConvNet Architecture\n",
    "\n",
    "Now it's time to construct our agent. We will make use of a ConvNet to train our Q-Learning algorithm. Parameters for the ConvNet such as number of layers, filter sizes, stride and activations have all been kept same as the ones mentioned in the paper. Fully-Connected Dense layers consisting of 52 hidden units and ReLU non-linearity have been added on top of the ConvNet architecture.  \n",
    "\n",
    "Our agent will take the input as the state from the environment, an 84x84 image of the game screen and the output will be one of the following 3 actions- move up (0), move down (1) and do nothing (2). The output layer consists of 3 output nodes of which the $argmax$ is selected as a result of the greedy poliy which we will discuss in the next section. "
   ]
  },
  {
   "cell_type": "code",
   "execution_count": 0,
   "metadata": {
    "colab": {},
    "colab_type": "code",
    "id": "tILsyNPsjy6x"
   },
   "outputs": [],
   "source": [
    "class CnnDQN(nn.Module):\n",
    "    def __init__(self, input_shape, num_actions):\n",
    "        super(CnnDQN, self).__init__()\n",
    "        \n",
    "        self.input_shape = input_shape\n",
    "        self.num_actions = num_actions\n",
    "        \n",
    "        self.features = nn.Sequential(\n",
    "            nn.Conv2d(input_shape[0], 32, kernel_size=8, stride=4),\n",
    "            nn.ReLU(),\n",
    "            nn.Conv2d(32, 64, kernel_size=4, stride=2),\n",
    "            nn.ReLU(),\n",
    "            nn.Conv2d(64, 64, kernel_size=3, stride=1),\n",
    "            nn.ReLU()\n",
    "        )\n",
    "        \n",
    "        self.fc = nn.Sequential(\n",
    "            nn.Linear(self.feature_size(), 512),\n",
    "            nn.ReLU(),\n",
    "            nn.Linear(512, self.num_actions)\n",
    "        )\n",
    "        \n",
    "    def forward(self, x):\n",
    "        x = self.features(x)\n",
    "        x = x.view(x.size(0), -1)\n",
    "        x = self.fc(x)\n",
    "        return x\n",
    "    \n",
    "    def feature_size(self):\n",
    "        return self.features(autograd.Variable(torch.zeros(1, *self.input_shape))).view(1, -1).size(1)\n",
    "    \n",
    "    def act(self, state, epsilon):\n",
    "        if random.random() > epsilon:\n",
    "            state   = Variable(torch.FloatTensor(np.float32(state)).unsqueeze(0), volatile=True)\n",
    "            q_value = self.forward(state)\n",
    "            action  = q_value.max(1)[1].data[0]\n",
    "        else:\n",
    "            action = random.randrange(env.action_space.n)\n",
    "        return action"
   ]
  },
  {
   "cell_type": "markdown",
   "metadata": {},
   "source": [
    "## 4. Update Rule\n",
    "\n",
    "Now we will make our update rule for the multi-agent algorithm. We will make use of Q-Learning which updates our parameters based on the best/greedy Q-action value $\\underset{a}{max}Q(s^{'},a)$. Here, $s^{'}$ is the next state and $a$ is the action selected. The algorithm can be mathematically expressed as followed-  \n",
    "$Initialize\\quad Q(s,a), \\forall s \\in S, \\forall a \\in A, \\quad Q(term\\_state,.) = 0$  \n",
    "$Repeat(for\\quad each\\quad episode):$  \n",
    "$\\qquad a,s \\leftarrow \\pi(s,a)$  \n",
    "$\\qquad execute\\quad a$  \n",
    "$\\qquad observe\\quad r,s^{'}$  \n",
    "$\\qquad Q(s,a)\\leftarrow Q(s,a) + \\alpha[r + \\gamma\\underset{a}{max}Q(s^{'},a) - Q(s,a)]$  \n",
    "$\\qquad s\\leftarrow s^{'}$  \n",
    "$until\\; s\\; is\\; terminal$  \n",
    "\n",
    "Notice that the update $Q(s,a)\\leftarrow Q(s,a) + \\alpha[r + \\gamma\\underset{a}{max}Q(s^{'},a) - Q(s,a)]$ is greedy w.r.t the policy $\\pi (s,a)$. Thus, Q-Learning will sample the best action value $\\underset{a}{argmax}Q(s,a)$ irrespective of exploration. Hence it is good practice to make the agent explore the environment sufficiently for long-horizon rewards.  \n",
    "\n",
    "Weight updates for our agents take similar form as the Q-updates-  \n",
    "\n",
    "<center>$w\\leftarrow w + \\alpha[r + \\gamma\\underset{a}{max}Q(s^{'},a,w) - Q(s,a,w)]\\nabla Q(s,a,w)$</center>  \n",
    "\n",
    "For our experiment, we will compute the TD Loss corresponding to each agent as the MSE difference between the Q-value and the expected Q-value ($\\underset{a}{max}Q(s^{'},a)$). Mathematically,  \n",
    "\n",
    "<center>$L = \\frac{1}{N}\\sum_{i}[Q(s,a) - \\underset{a}{max}Q(s^{'},a)]^{2}$</center>  \n",
    "The total loss will be the weighted sum of the manager and order network losses. Feel free to play around with the weight coefficients and see how loss variation progresses."
   ]
  },
  {
   "cell_type": "code",
   "execution_count": 0,
   "metadata": {
    "colab": {},
    "colab_type": "code",
    "id": "srhyFLFdlUp1"
   },
   "outputs": [],
   "source": [
    "def compute_td_loss(batch_size):\n",
    "    state, action, reward, next_state, done = replay_buffer.sample(batch_size)\n",
    "\n",
    "    state      = Variable(torch.FloatTensor(np.float32(state))).to(device)\n",
    "    next_state = Variable(torch.FloatTensor(np.float32(next_state)), volatile=True).to(device)\n",
    "    action     = Variable(torch.LongTensor(action)).to(device)\n",
    "    reward     = Variable(torch.FloatTensor(reward)).to(device)\n",
    "    done       = Variable(torch.FloatTensor(done)).to(device)\n",
    "\n",
    "    q_values      = model(state)\n",
    "    next_q_values = model(next_state)\n",
    "\n",
    "    q_value          = q_values.gather(1, action.unsqueeze(1)).squeeze(1)\n",
    "    next_q_value     = next_q_values.max(1)[0]\n",
    "    expected_q_value = reward + gamma * next_q_value * (1 - done)\n",
    "    \n",
    "    loss = (q_value - Variable(expected_q_value.data)).pow(2).mean()\n",
    "        \n",
    "    optimizer.zero_grad()\n",
    "    loss.backward()\n",
    "    optimizer.step()\n",
    "    \n",
    "    return loss"
   ]
  },
  {
   "cell_type": "markdown",
   "metadata": {},
   "source": [
    "## 5. Initialize Setup\n",
    "\n",
    "Now that we are all ready to train our model, we will initialize our learning setup. We will implement our algorithm on Pong by skipping frequent frames in order to save up on memory and make the process data efficient. We will initialize our environment, our agent, the optimizer and the replay buffer along with its capacity. Keep in mind that Atari environments require significant exploration. Thus, a buffer with large capacity is suitable for the training process. "
   ]
  },
  {
   "cell_type": "code",
   "execution_count": 0,
   "metadata": {
    "colab": {},
    "colab_type": "code",
    "id": "zzeBQWQnksqj"
   },
   "outputs": [],
   "source": [
    "env_id = \"PongNoFrameskip-v4\"\n",
    "env    = make_atari(env_id)\n",
    "env    = wrap_deepmind(env)\n",
    "env    = wrap_pytorch(env)\n",
    "\n",
    "model = CnnDQN(env.observation_space.shape, env.action_space.n).to(device)\n",
    "    \n",
    "optimizer = optim.Adam(model.parameters(), lr=0.00001)\n",
    "\n",
    "replay_initial = 10000\n",
    "replay_buffer = ReplayBuffer(100000)\n",
    "\n",
    "load_model = True\n",
    "if load_model==True:\n",
    "    model_checkpoint = torch.load(checkpoint_name+'/model.pth.tar', map_location=device) \n",
    "    model.load_state_dict(model_checkpoint['model_state_dict'])\n",
    "    optimizer.load_state_dict(model_checkpoint['optimizer_state_dict'])\n",
    "    loss = model_checkpoint['loss']"
   ]
  },
  {
   "cell_type": "markdown",
   "metadata": {},
   "source": [
    "## 6. Exploration\n",
    "\n",
    "As discussed in our previous tutorials, we make use of the exploration-starts strategy wherein we start of with 100% exploration and exponentially decay its amount over agent's learning. This is a key step for the model to sample appropriate actions during long-horizon episodic tasks.  "
   ]
  },
  {
   "cell_type": "code",
   "execution_count": 0,
   "metadata": {
    "colab": {
     "base_uri": "https://localhost:8080/",
     "height": 283
    },
    "colab_type": "code",
    "id": "ih4ly10qkyDd",
    "outputId": "e3ef8264-dd4e-444a-c8d7-1b8f1bfbd8ee"
   },
   "outputs": [
    {
     "data": {
      "text/plain": [
       "[<matplotlib.lines.Line2D at 0x7f957cad4390>]"
      ]
     },
     "execution_count": 6,
     "metadata": {
      "tags": []
     },
     "output_type": "execute_result"
    },
    {
     "data": {
      "image/png": "[encoded data removed]",
      "text/plain": [
       "<Figure size 432x288 with 1 Axes>"
      ]
     },
     "metadata": {
      "tags": []
     },
     "output_type": "display_data"
    }
   ],
   "source": [
    "epsilon_start = 1.0\n",
    "epsilon_final = 0.01\n",
    "epsilon_decay = 30000\n",
    "\n",
    "epsilon_by_frame = lambda frame_idx: epsilon_final + (epsilon_start - epsilon_final) * math.exp(-1. * frame_idx / epsilon_decay)\n",
    "plt.plot([epsilon_by_frame(i) for i in range(1000000)])"
   ]
  },
  {
   "cell_type": "markdown",
   "metadata": {},
   "source": [
    "## 7. Learning Loop\n",
    "\n",
    "We initialize our training hyperparameters and reset the environment to its initial state. Now, we make use of the standard PyTorch loop mechanism and step through the environment upon sampling actions from our agent. TD updates are made once the replay buffer reaches a capacity of more than 10,000 experiences. Once the loop completes, we save our progress (loss and rewards) for visualization. "
   ]
  },
  {
   "cell_type": "code",
   "execution_count": 0,
   "metadata": {
    "colab": {
     "base_uri": "https://localhost:8080/",
     "height": 141
    },
    "colab_type": "code",
    "id": "7TEINiFzlEpb",
    "outputId": "e5a86e6d-dfdb-40a7-f089-2eb36e525e5e"
   },
   "outputs": [
    {
     "name": "stderr",
     "output_type": "stream",
     "text": [
      "/usr/local/lib/python3.6/dist-packages/ipykernel_launcher.py:21: UserWarning: volatile was removed and now has no effect. Use `with torch.no_grad():` instead.\n"
     ]
    },
    {
     "name": "stdout",
     "output_type": "stream",
     "text": [
      "Step- 10000 / 50000 |Episode Reward- 19.0 |Loss- 0.0006391182541847229\n",
      "Step- 20000 / 50000 |Episode Reward- 9.0 |Loss- 0.001353058498352766\n",
      "Step- 30000 / 50000 |Episode Reward- 5.0 |Loss- 0.0010781276505440474\n",
      "Step- 40000 / 50000 |Episode Reward- 12.0 |Loss- 0.0006001984584145248\n",
      "Step- 50000 / 50000 |Episode Reward- 19.0 |Loss- 0.0006975909345783293\n"
     ]
    }
   ],
   "source": [
    "loss = None\n",
    "num_frames = 50000\n",
    "batch_size = 32\n",
    "gamma      = 0.99\n",
    "\n",
    "losses = []\n",
    "all_rewards = []\n",
    "episode_reward = 0\n",
    "\n",
    "state = env.reset()\n",
    "for frame_idx in range(1, num_frames + 1):\n",
    "    epsilon = 0.01 #epsilon_by_frame(frame_idx)\n",
    "    action = model.act(state, epsilon)\n",
    "    next_state, reward, done, _ = env.step(action)\n",
    "    replay_buffer.push(state, action, reward, next_state, done)\n",
    "    state = next_state\n",
    "    episode_reward += reward\n",
    "    \n",
    "    if frame_idx > 10000:\n",
    "      imsave(checkpoint_name+'/Frames/'+str(frame_idx)+'.png',state[0,:,:])\n",
    "\n",
    "    if done:\n",
    "        state = env.reset()\n",
    "        all_rewards.append(episode_reward)\n",
    "        episode_reward = 0\n",
    "        \n",
    "    if len(replay_buffer) > replay_initial:\n",
    "        loss = compute_td_loss(batch_size)\n",
    "        loss = loss.item()\n",
    "        losses.append(loss)\n",
    "        \n",
    "    if frame_idx % 10000 == 0:\n",
    "        print('Step-',frame_idx,'/',num_frames,'|Episode Reward-',all_rewards[-1],'|Loss-',loss)\n",
    "        torch.save({'model_state_dict': model.state_dict(), 'optimizer_state_dict': optimizer.state_dict(), 'loss': loss},checkpoint_name+'/model.pth.tar')\n",
    "        # plt.plot(all_rewards)\n",
    "\n",
    "data_save = {}\n",
    "data_save['loss'] = losses\n",
    "data_save['reward'] = all_rewards\n",
    "\n",
    "with open(checkpoint_name+'/data_save.pkl', 'wb') as f: #data+same as frame folder\n",
    "    pkl.dump(data_save, f)\n",
    "\n"
   ]
  },
  {
   "cell_type": "markdown",
   "metadata": {
    "colab_type": "text",
    "id": "tka46FqAaLPA"
   },
   "source": [
    "## 8. Visualizing Results\n",
    "\n",
    "It's time to check how our agent performed in the environment. We plot episodic rewards and loss values to see the learning progress of our agent.  \n",
    "\n",
    "Additionally, you can render frames of gameplay from the environment either by calling $env.render()$ method or by simply saving the state as an image and combining the saved frames as a .gif file. Here is a peak into the gameplay of our agent-  \n",
    "\n",
    "<img src='2.05M.gif' align=\"center\" />"
   ]
  },
  {
   "cell_type": "code",
   "execution_count": 0,
   "metadata": {
    "colab": {
     "base_uri": "https://localhost:8080/",
     "height": 545
    },
    "colab_type": "code",
    "id": "4b-7FY_SrJBr",
    "outputId": "2094df67-5f2a-499c-ad36-57e9d6a8918c"
   },
   "outputs": [
    {
     "data": {
      "image/png": "[encoded data removed]",
      "text/plain": [
       "<Figure size 432x288 with 1 Axes>"
      ]
     },
     "metadata": {
      "tags": []
     },
     "output_type": "display_data"
    },
    {
     "data": {
      "image/png": "[encoded data removed]",
      "text/plain": [
       "<Figure size 432x288 with 1 Axes>"
      ]
     },
     "metadata": {
      "tags": []
     },
     "output_type": "display_data"
    }
   ],
   "source": [
    "lst = ['1','2']\n",
    "loss = []\n",
    "Rewards = []\n",
    "for j in lst:\n",
    "    with open(checkpoint_name+'/'+j+'.pkl', 'rb') as f: #data+same as frame folder\n",
    "        data = pkl.load(f)\n",
    "        loss = loss + data['loss']\n",
    "        Rewards = Rewards + data['reward']\n",
    "\n",
    "plt.figure()\n",
    "plt.title('Loss')\n",
    "plt.plot(loss)\n",
    "plt.show()\n",
    "\n",
    "plt.figure()\n",
    "plt.title('Rewards')\n",
    "plt.plot(Rewards)\n",
    "plt.show()"
   ]
  },
  {
   "cell_type": "code",
   "execution_count": 0,
   "metadata": {
    "colab": {},
    "colab_type": "code",
    "id": "Wgbik1Un-4Bg"
   },
   "outputs": [],
   "source": []
  }
 ],
 "metadata": {
  "accelerator": "GPU",
  "colab": {
   "collapsed_sections": [],
   "name": "DQN_atari.ipynb",
   "provenance": []
  },
  "kernelspec": {
   "display_name": "Python 3",
   "language": "python",
   "name": "python3"
  },
  "language_info": {
   "codemirror_mode": {
    "name": "ipython",
    "version": 3
   },
   "file_extension": ".py",
   "mimetype": "text/x-python",
   "name": "python",
   "nbconvert_exporter": "python",
   "pygments_lexer": "ipython3",
   "version": "3.7.3"
  }
 },
 "nbformat": 4,
 "nbformat_minor": 1
}
