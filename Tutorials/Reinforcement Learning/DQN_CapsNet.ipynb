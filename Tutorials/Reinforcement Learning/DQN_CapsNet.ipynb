{
 "cells": [
  {
   "cell_type": "markdown",
   "metadata": {
    "colab_type": "text",
    "id": "w69XPgj3Yezt"
   },
   "source": [
    "\n",
    "<h1><center> Deep Q-Learning in PyTorch using Capsule Networks</center></h1>\n",
    "\n",
    "This notebook will introduce Q-Learning, one of the most famous algorithms in Reinforcement Learning which utilizes Neural Networks as function approximators. All tutorials in the Reinforcement Learning sections require prior knowledge of Deep Neural Networks and it is recommended that you have a look at the notebooks in the Deep Learning section. \n"
   ]
  },
  {
   "cell_type": "markdown",
   "metadata": {
    "colab_type": "text",
    "id": "IvBmWCVMYpoB"
   },
   "source": [
    "### 1. Import Dependencies\n",
    "\n",
    "We will use PyTorch and gym (by OpenAI) for our experiments as these are lightweight and easy to program."
   ]
  },
  {
   "cell_type": "code",
   "execution_count": 0,
   "metadata": {
    "colab": {
     "base_uri": "https://localhost:8080/",
     "height": 124
    },
    "colab_type": "code",
    "id": "it0RYMQHYaXs",
    "outputId": "3533ead6-55bd-46d7-8db7-ba86a659fa85"
   },
   "outputs": [
    {
     "name": "stdout",
     "output_type": "stream",
     "text": [
      "Go to this URL in a browser: https://accounts.google.com/o/oauth2/auth?client_id=947318989803-6bn6qk8qdgf4n4g3pfee6491hc0brc4i.apps.googleusercontent.com&redirect_uri=urn%3aietf%3awg%3aoauth%3a2.0%3aoob&response_type=code&scope=email%20https%3a%2f%2fwww.googleapis.com%2fauth%2fdocs.test%20https%3a%2f%2fwww.googleapis.com%2fauth%2fdrive%20https%3a%2f%2fwww.googleapis.com%2fauth%2fdrive.photos.readonly%20https%3a%2f%2fwww.googleapis.com%2fauth%2fpeopleapi.readonly\n",
      "\n",
      "Enter your authorization code:\n",
      "··········\n",
      "Mounted at /content/drive\n"
     ]
    }
   ],
   "source": [
    "# !pip install gym\n",
    "import math\n",
    "import json\n",
    "import random\n",
    "import gym\n",
    "import numpy as np\n",
    "import torch\n",
    "import torch.nn as nn\n",
    "import torch.optim as optim\n",
    "import torch.nn.functional as F\n",
    "from torch.distributions import Normal\n",
    "from torch.autograd import Variable\n",
    "\n",
    "import matplotlib.pyplot as plt\n",
    "from matplotlib.image import imsave\n",
    "from google.colab import files\n",
    "\n",
    "#Use Google Drive\n",
    "from google.colab import drive\n",
    "user_name = '/content/drive'\n",
    "drive_name = '/content/drive/My Drive/Colab Notebooks/Frames-300000'\n",
    "checkpoint_name = '/content/drive/My Drive/Colab Notebooks/Checkpoints'\n",
    "drive.mount(user_name, force_remount=True)\n",
    "\n",
    "#Use GPU\n",
    "use_cuda = torch.cuda.is_available()\n",
    "device = torch.device('cuda' if use_cuda else 'cpu')"
   ]
  },
  {
   "cell_type": "markdown",
   "metadata": {
    "colab_type": "text",
    "id": "oc5ZoG3gZCLV"
   },
   "source": [
    "### 2. Experience Replay Buffer\n",
    "\n",
    "Almost all Reinforcement Learning methods make use of a Replay Buffer which saves past experiences from a particular episode. Each (state,action,reward,next_state) tuple is stored in the buffer so that the RL algorithm can be trained later when the episode is over."
   ]
  },
  {
   "cell_type": "code",
   "execution_count": 0,
   "metadata": {
    "colab": {},
    "colab_type": "code",
    "id": "MEjpouEBZEw-"
   },
   "outputs": [],
   "source": [
    "class ReplayBuffer:\n",
    "  def __init__(self,capacity): #Initializa Buffer\n",
    "    self.capacity = capacity\n",
    "    self.buffer = []\n",
    "    self.position = 0\n",
    "\n",
    "  def push(self,state,action,reward,next_state,done): #Push values into buffer\n",
    "    if len(self.buffer)<self.capacity:\n",
    "      self.buffer.append(None)\n",
    "    self.buffer[self.position] = (state,action,reward,next_state,done)\n",
    "    self.position = (self.position+1)%self.capacity\n",
    "\n",
    "  def sample(self,batch_size): #Sample values from buffer during training\n",
    "    batch = random.sample(self.buffer,batch_size)\n",
    "    state,action,reward,next_state,done = map(np.stack, zip(*batch))\n",
    "    return state,action,reward,next_state,done\n",
    "\n",
    "  def __len__(self):\n",
    "    return len(self.buffer)"
   ]
  },
  {
   "cell_type": "markdown",
   "metadata": {
    "colab_type": "text",
    "id": "e3utUgqSbp2J"
   },
   "source": [
    "### 3. Ornstein-Uhlenbeck Process\n",
    "\n",
    "Policy Gradient methods require a random process for making the policy explore the game environment. If sufficient exploration is not carried then our agent will not be able to perform all the actions and may fail in cases where it has not encountered a particular state previously. We use the OU process because it is Gaussian, Markovian and temporarily homogenous in nature. \n"
   ]
  },
  {
   "cell_type": "code",
   "execution_count": 0,
   "metadata": {
    "colab": {},
    "colab_type": "code",
    "id": "6JqyPwDGbvHB"
   },
   "outputs": [],
   "source": [
    "class OUNoise(object):\n",
    "    def __init__(self, action_space, mu=0.0, theta=0.15, max_sigma=0.3, min_sigma=0.3, decay_period=100000):\n",
    "        self.mu           = mu\n",
    "        self.theta        = theta\n",
    "        self.sigma        = max_sigma\n",
    "        self.max_sigma    = max_sigma\n",
    "        self.min_sigma    = min_sigma\n",
    "        self.decay_period = decay_period\n",
    "        # Pong- 6,0,5 | Breakout- 4,0,3\n",
    "        self.action_dim   = 4#action_space.shape[0]\n",
    "        self.low          = 0#action_space.low\n",
    "        self.high         = 3#action_space.high\n",
    "        self.reset()\n",
    "        \n",
    "    def reset(self):\n",
    "        self.state = np.ones(self.action_dim) * self.mu\n",
    "        \n",
    "    def evolve_state(self):\n",
    "        x  = self.state\n",
    "        dx = self.theta * (self.mu - x) + self.sigma * np.random.randn(self.action_dim)\n",
    "        self.state = x + dx\n",
    "        return self.state\n",
    "    \n",
    "    def get_action(self, action, t=0):\n",
    "        ou_state = self.evolve_state()\n",
    "        self.sigma = self.max_sigma - (self.max_sigma - self.min_sigma) * min(1.0, t / self.decay_period)\n",
    "        return np.clip(action + ou_state, self.low, self.high)"
   ]
  },
  {
   "cell_type": "markdown",
   "metadata": {
    "colab_type": "text",
    "id": "qDVSW1hfbz_4"
   },
   "source": [
    "### 4. Actor-Critic Networks\n",
    "\n",
    "This is where the fun starts! Each Policy Gradient method consists of an Actor Network and a Critic Network. Following are the explanation of the two- \n",
    "\n",
    "### 4.1 Actor Network\n",
    "The Actor Network is responsible for performing the actions during the game. It takes its input as one frame (which is an image) from the game screen and outputs the probabilities for actions. Action corresponding to the highest probability is selected. Actor Networks are often called Policy Networks since they execute the policy which our agent will follow. \n",
    "\n",
    "$$ s \\rightarrow \\pi (a|s,\\theta=w)$$\n",
    "\n",
    "### 4.2 Critic Network\n",
    "The Critic Network (also called the Value Network) is the one which assesses how good the action was. It takes its input as the state and action performed in that state and outputs the value corresponding to the value function. This value is an indication of how the good the action was and how much it deviates from the ideal action (corresponding to the expected value) in the given state. \n",
    "\n",
    "$$ s,a \\rightarrow \\hat{v}(s,w)$$\n"
   ]
  },
  {
   "cell_type": "code",
   "execution_count": 0,
   "metadata": {
    "colab": {},
    "colab_type": "code",
    "id": "dp1qVsIPb-qN"
   },
   "outputs": [],
   "source": [
    "# class ValueNetwork(nn.Module): #Replace ANN with CapsNet, concatenate state and action from buffer and take np.argmax from prob tensor after last layer\n",
    "#   def __init__(self,num_inputs,num_actions,hidden_size,init_w=3e-3): #The Critic Network\n",
    "#     super(ValueNetwork,self).__init__()\n",
    "#     self.linear1 = nn.Linear(num_inputs+num_actions,hidden_size)\n",
    "#     self.linear2 = nn.Linear(hidden_size,hidden_size)\n",
    "#     self.linear3 = nn.Linear(hidden_size,1)\n",
    "#     self.linear3.weight.data.uniform_(-init_w,init_w)\n",
    "#     self.linear3.bias.data.uniform_(-init_w,init_w)\n",
    "\n",
    "#   def forward(self,state,action): #Forward Pass\n",
    "#     print(state.shape)\n",
    "#     print(action.shape)\n",
    "#     x = torch.cat([state,action],1)\n",
    "#     x = F.relu(self.linear1(x))\n",
    "#     x = F.relu(self.linear2(x))\n",
    "#     x = self.linear3(x)\n",
    "#     return x\n",
    "\n",
    "# class PolicyNetwork(nn.Module): #The Actor Network\n",
    "#     def __init__(self, num_inputs, num_actions, hidden_size, init_w=3e-3):\n",
    "#         super(PolicyNetwork, self).__init__()   \n",
    "#         self.linear1 = nn.Linear(num_inputs, hidden_size)\n",
    "#         self.linear2 = nn.Linear(hidden_size, hidden_size)\n",
    "#         self.linear3 = nn.Linear(hidden_size, num_actions)\n",
    "#         self.linear3.weight.data.uniform_(-init_w, init_w)\n",
    "#         self.linear3.bias.data.uniform_(-init_w, init_w)\n",
    "        \n",
    "#     def forward(self, state): #Forward Pass\n",
    "#         x = F.relu(self.linear1(state))\n",
    "#         x = F.relu(self.linear2(x))\n",
    "#         x = F.tanh(self.linear3(x))\n",
    "#         return x\n",
    "\n",
    "#     def get_action(self,state): #Sample Action\n",
    "#       state = torch.FloatTensor(state).unsqueeze(0).to(device)\n",
    "#       action = self.forward(state)\n",
    "#       return action.detach().cpu().numpy()[0,0]\n"
   ]
  },
  {
   "cell_type": "markdown",
   "metadata": {
    "colab_type": "text",
    "id": "yvUnGIixdixE"
   },
   "source": [
    "### 5. CapsNet as Actor Network\n",
    "\n",
    "The architecture here is adopted from Deep Learning tutorials and the DPPG implementation. \n",
    "\n",
    "### 5.1 Layers of CapsNet"
   ]
  },
  {
   "cell_type": "code",
   "execution_count": 0,
   "metadata": {
    "colab": {},
    "colab_type": "code",
    "id": "grRLto-Ldpe1"
   },
   "outputs": [],
   "source": [
    "def squash(x): #Squashing Function\n",
    "    lengths2 = x.pow(2).sum(dim=2)\n",
    "    lengths = lengths2.sqrt()\n",
    "    x = x * (lengths2 / (1 + lengths2) / lengths).view(x.size(0), x.size(1), 1)\n",
    "    return x\n",
    "\n",
    "\n",
    "class AgreementRouting(nn.Module): #Dynamic Routing Algorithm\n",
    "    def __init__(self, input_caps, output_caps, n_iterations):\n",
    "        super(AgreementRouting, self).__init__()\n",
    "        self.n_iterations = n_iterations\n",
    "        self.b = nn.Parameter(torch.zeros((input_caps, output_caps)))\n",
    "\n",
    "    def forward(self, u_predict):\n",
    "        batch_size, input_caps, output_caps, output_dim = u_predict.size()\n",
    "        c = F.softmax(self.b)\n",
    "        s = (c.unsqueeze(2) * u_predict).sum(dim=1)\n",
    "        v = squash(s)\n",
    "        if self.n_iterations > 0:\n",
    "            b_batch = self.b.expand((batch_size, input_caps, output_caps))\n",
    "            for r in range(self.n_iterations):\n",
    "                v = v.unsqueeze(1)\n",
    "                b_batch = b_batch + (u_predict * v).sum(-1)\n",
    "\n",
    "                c = F.softmax(b_batch.view(-1, output_caps)).view(-1, input_caps, output_caps, 1)\n",
    "                s = (c * u_predict).sum(dim=1)\n",
    "                v = squash(s)\n",
    "        return v\n",
    "\n",
    "\n",
    "class CapsLayer(nn.Module): #Digit Capsule Layer\n",
    "    def __init__(self, input_caps, input_dim, output_caps, output_dim, routing_module):\n",
    "        super(CapsLayer, self).__init__()\n",
    "        self.input_dim = input_dim\n",
    "        self.input_caps = input_caps\n",
    "        self.output_dim = output_dim\n",
    "        self.output_caps = output_caps\n",
    "        self.weights = nn.Parameter(torch.Tensor(input_caps, input_dim, output_caps * output_dim))\n",
    "        self.routing_module = routing_module\n",
    "        self.reset_parameters()\n",
    "\n",
    "    def reset_parameters(self):\n",
    "        stdv = 1. / math.sqrt(self.input_caps)\n",
    "        self.weights.data.uniform_(-stdv, stdv)\n",
    "\n",
    "    def forward(self, caps_output):\n",
    "        caps_output = caps_output.unsqueeze(2)\n",
    "        caps_output = caps_output.mean(1)\n",
    "        caps_output = caps_output.unsqueeze(1)\n",
    "        u_predict = caps_output.matmul(self.weights)\n",
    "        u_predict = u_predict.view(u_predict.size(0), self.input_caps, self.output_caps, self.output_dim)\n",
    "        v = self.routing_module(u_predict)\n",
    "        return v\n",
    "\n",
    "\n",
    "class PrimaryCapsLayer(nn.Module): #Primary Capsule Layer\n",
    "    def __init__(self, input_channels, output_caps, output_dim, kernel_size, stride):\n",
    "        super(PrimaryCapsLayer, self).__init__()\n",
    "        self.conv = nn.Conv2d(input_channels, output_caps * output_dim, kernel_size=kernel_size, stride=stride)\n",
    "        self.input_channels = input_channels\n",
    "        self.output_caps = output_caps\n",
    "        self.output_dim = output_dim\n",
    "\n",
    "    def forward(self, input):\n",
    "        out = self.conv(input)\n",
    "        N, C, H, W = out.size()\n",
    "        out = out.view(N, self.output_caps, self.output_dim, H, W)\n",
    "        # will output N x OUT_CAPS x OUT_DIM\n",
    "        out = out.permute(0, 1, 3, 4, 2).contiguous()\n",
    "        out = out.view(out.size(0), -1, out.size(4))\n",
    "        out = squash(out)\n",
    "        return out\n"
   ]
  },
  {
   "cell_type": "markdown",
   "metadata": {
    "colab_type": "text",
    "id": "R7r2ka6wgjgI"
   },
   "source": [
    "### 5.2 CapsNet Architecture"
   ]
  },
  {
   "cell_type": "code",
   "execution_count": 0,
   "metadata": {
    "colab": {},
    "colab_type": "code",
    "id": "1ibN6AvlgoIg"
   },
   "outputs": [],
   "source": [
    "class PolicyNetwork1(nn.Module):\n",
    "    def __init__(self, n_classes, routing_iterations):\n",
    "        super(PolicyNetwork1, self).__init__()\n",
    "        self.conv1 = nn.Conv2d(1, 256, kernel_size=8, stride=4)\n",
    "        self.primaryCaps = PrimaryCapsLayer(256, 4, 4, kernel_size=4, stride=2)  \n",
    "        self.num_primaryCaps = 6\n",
    "        routing_module = AgreementRouting(self.num_primaryCaps, n_classes, routing_iterations)\n",
    "        self.digitCaps = CapsLayer(self.num_primaryCaps, 4, n_classes, 8, routing_module)\n",
    "        self.Flatten = nn.Flatten()\n",
    "        self.Dense1 = nn.Linear(n_classes*8, 512*self.num_primaryCaps*n_classes*8)\n",
    "        self.Dense2 = nn.Linear(512*self.num_primaryCaps*n_classes*8, n_classes)\n",
    "\n",
    "    def forward(self, input):\n",
    "        x = self.conv1(input)\n",
    "        x = F.relu(x)\n",
    "        x = self.primaryCaps(x)\n",
    "        x = self.digitCaps(x)\n",
    "        x = self.Flatten(x)\n",
    "        # probs = x.pow(2).sum(dim=2).sqrt()\n",
    "        x = F.relu(self.Dense1(x))\n",
    "        x = F.relu(self.Dense2(x))\n",
    "        x = F.softmax(x)\n",
    "        return x\n",
    "\n",
    "    def act(self, state, epsilon):\n",
    "          if random.random() > epsilon:\n",
    "            state = torch.FloatTensor(state).unsqueeze(0).to(device)\n",
    "            action = self.forward(state)\n",
    "            action  = action.max(1)[1].data[0]\n",
    "          else:\n",
    "              action = random.randrange(env.action_space.n)\n",
    "          return int(action)"
   ]
  },
  {
   "cell_type": "markdown",
   "metadata": {
    "colab_type": "text",
    "id": "og6fBZZbfFog"
   },
   "source": [
    "### 6. TD Loss\n",
    "\n"
   ]
  },
  {
   "cell_type": "code",
   "execution_count": 0,
   "metadata": {
    "colab": {},
    "colab_type": "code",
    "id": "cC6fR4oNfHfV"
   },
   "outputs": [],
   "source": [
    "def compute_td_loss(batch_size):\n",
    "    state, action, reward, next_state, done = replay_buffer.sample(batch_size)\n",
    "\n",
    "    state      = Variable(torch.FloatTensor(np.float32(state)))\n",
    "    next_state = Variable(torch.FloatTensor(np.float32(next_state)), volatile=True)\n",
    "    action     = Variable(torch.LongTensor(action))\n",
    "    reward     = Variable(torch.FloatTensor(reward))\n",
    "    done       = Variable(torch.FloatTensor(done))\n",
    "\n",
    "    q_values      = policy_net(state)\n",
    "    next_q_values = policy_net(next_state)\n",
    "\n",
    "    q_value          = q_values.gather(1, action.unsqueeze(1)).squeeze(1)\n",
    "    next_q_value     = next_q_values.max(1)[0]\n",
    "    expected_q_value = reward + gamma * next_q_value * (1 - done)\n",
    "    \n",
    "    pol_loss = (q_value - Variable(expected_q_value.data)).pow(2).mean()\n",
    "        \n",
    "    optimizer.zero_grad()\n",
    "    pol_loss.backward()\n",
    "    optimizer.step()\n",
    "    \n",
    "    return_pol_loss = pol_loss.copy()\n",
    "    \n",
    "    return return_pol_loss.detach().cpu().numpy()"
   ]
  },
  {
   "cell_type": "markdown",
   "metadata": {
    "colab_type": "text",
    "id": "kQ8tt5rpfIAm"
   },
   "source": [
    "### 7. Test DQN\n",
    "\n"
   ]
  },
  {
   "cell_type": "code",
   "execution_count": 0,
   "metadata": {
    "colab": {
     "base_uri": "https://localhost:8080/",
     "height": 585
    },
    "colab_type": "code",
    "id": "KWyxK2HtfNSo",
    "outputId": "125c8602-17de-46fd-d1ba-735ad84800a2"
   },
   "outputs": [
    {
     "name": "stdout",
     "output_type": "stream",
     "text": [
      "Launching Game...\n",
      "Training Started...\n",
      "----------------------------------------------------------------------------------------------------\n"
     ]
    },
    {
     "name": "stderr",
     "output_type": "stream",
     "text": [
      "/usr/local/lib/python3.6/dist-packages/ipykernel_launcher.py:16: UserWarning: Implicit dimension choice for softmax has been deprecated. Change the call to include dim=X as an argument.\n",
      "  app.launch_new_instance()\n",
      "/usr/local/lib/python3.6/dist-packages/ipykernel_launcher.py:25: UserWarning: Implicit dimension choice for softmax has been deprecated. Change the call to include dim=X as an argument.\n",
      "/usr/local/lib/python3.6/dist-packages/ipykernel_launcher.py:22: UserWarning: Implicit dimension choice for softmax has been deprecated. Change the call to include dim=X as an argument.\n",
      "/usr/local/lib/python3.6/dist-packages/ipykernel_launcher.py:5: UserWarning: volatile was removed and now has no effect. Use `with torch.no_grad():` instead.\n",
      "  \"\"\"\n"
     ]
    },
    {
     "name": "stdout",
     "output_type": "stream",
     "text": [
      "torch.Size([32, 4])\n",
      "torch.Size([32, 1])\n",
      "torch.Size([32])\n"
     ]
    },
    {
     "ename": "AttributeError",
     "evalue": "ignored",
     "output_type": "error",
     "traceback": [
      "\u001b[0;31m---------------------------------------------------------------------------\u001b[0m",
      "\u001b[0;31mAttributeError\u001b[0m                            Traceback (most recent call last)",
      "\u001b[0;32m<ipython-input-7-443d2cf79b6b>\u001b[0m in \u001b[0;36m<module>\u001b[0;34m()\u001b[0m\n\u001b[1;32m     86\u001b[0m \u001b[0;34m\u001b[0m\u001b[0m\n\u001b[1;32m     87\u001b[0m   \u001b[0;32mif\u001b[0m \u001b[0mlen\u001b[0m\u001b[0;34m(\u001b[0m\u001b[0mreplay_buffer\u001b[0m\u001b[0;34m)\u001b[0m \u001b[0;34m>\u001b[0m \u001b[0mbatch_size\u001b[0m\u001b[0;34m:\u001b[0m\u001b[0;34m\u001b[0m\u001b[0;34m\u001b[0m\u001b[0m\n\u001b[0;32m---> 88\u001b[0;31m       \u001b[0mTD_Loss\u001b[0m \u001b[0;34m=\u001b[0m \u001b[0mcompute_td_loss\u001b[0m\u001b[0;34m(\u001b[0m\u001b[0mbatch_size\u001b[0m\u001b[0;34m)\u001b[0m\u001b[0;34m\u001b[0m\u001b[0;34m\u001b[0m\u001b[0m\n\u001b[0m\u001b[1;32m     89\u001b[0m \u001b[0;34m\u001b[0m\u001b[0m\n\u001b[1;32m     90\u001b[0m   \u001b[0mrewards\u001b[0m\u001b[0;34m.\u001b[0m\u001b[0mappend\u001b[0m\u001b[0;34m(\u001b[0m\u001b[0mepisode_reward\u001b[0m\u001b[0;34m)\u001b[0m \u001b[0;31m#Store rewards\u001b[0m\u001b[0;34m\u001b[0m\u001b[0;34m\u001b[0m\u001b[0m\n",
      "\u001b[0;32m<ipython-input-6-c2bc202d1cbc>\u001b[0m in \u001b[0;36mcompute_td_loss\u001b[0;34m(batch_size)\u001b[0m\n\u001b[1;32m     24\u001b[0m     \u001b[0moptimizer\u001b[0m\u001b[0;34m.\u001b[0m\u001b[0mstep\u001b[0m\u001b[0;34m(\u001b[0m\u001b[0;34m)\u001b[0m\u001b[0;34m\u001b[0m\u001b[0;34m\u001b[0m\u001b[0m\n\u001b[1;32m     25\u001b[0m \u001b[0;34m\u001b[0m\u001b[0m\n\u001b[0;32m---> 26\u001b[0;31m     \u001b[0mreturn_pol_loss\u001b[0m \u001b[0;34m=\u001b[0m \u001b[0mpol_loss\u001b[0m\u001b[0;34m.\u001b[0m\u001b[0mcopy\u001b[0m\u001b[0;34m(\u001b[0m\u001b[0;34m)\u001b[0m\u001b[0;34m\u001b[0m\u001b[0;34m\u001b[0m\u001b[0m\n\u001b[0m\u001b[1;32m     27\u001b[0m \u001b[0;34m\u001b[0m\u001b[0m\n\u001b[1;32m     28\u001b[0m     \u001b[0;32mreturn\u001b[0m \u001b[0mreturn_pol_loss\u001b[0m\u001b[0;34m.\u001b[0m\u001b[0mdetach\u001b[0m\u001b[0;34m(\u001b[0m\u001b[0;34m)\u001b[0m\u001b[0;34m.\u001b[0m\u001b[0mcpu\u001b[0m\u001b[0;34m(\u001b[0m\u001b[0;34m)\u001b[0m\u001b[0;34m.\u001b[0m\u001b[0mnumpy\u001b[0m\u001b[0;34m(\u001b[0m\u001b[0;34m)\u001b[0m\u001b[0;34m\u001b[0m\u001b[0;34m\u001b[0m\u001b[0m\n",
      "\u001b[0;31mAttributeError\u001b[0m: 'Tensor' object has no attribute 'copy'"
     ]
    }
   ],
   "source": [
    "def preprocess(I): #Preprocess the Image\n",
    "  I = I[35:195] # crop\n",
    "  I = I[::2,::2,0] # downsample by factor of 2\n",
    "  I[I == 144] = 0 # erase background (background type 1)\n",
    "  I[I == 109] = 0 # erase background (background type 2)\n",
    "  I[I != 0] = 1 # everything else (paddles, ball) just set to 1\n",
    "  I = np.expand_dims(I,axis=0)\n",
    "  # caps_img = np.swapaxes(I,axis1=0,axis2=2) #shape=(3,160,210)\n",
    "  return I\n",
    "\n",
    "\n",
    "env = gym.make('Breakout-v0') #Make the Environment\n",
    "print('Launching Game...')\n",
    "\n",
    "state_dim = (1, 80, 80)\n",
    "action_dim = env.action_space.n\n",
    "# action_dim = 4 #Number of actions\n",
    "\n",
    "policy_net = PolicyNetwork1(action_dim,3).to(device)\n",
    "policy_lr = 1e-3\n",
    "optimizer = optim.Adam(policy_net.parameters(),lr=policy_lr)\n",
    "\n",
    "TD_Loss = None\n",
    "load_model = False #Remember to update the name of json file \n",
    "#Load Pre-trained Models from checkpoints\n",
    "if load_model==True:\n",
    "  #Load Policy Net\n",
    "  policy_checkpoint = torch.load(checkpoint_name+'/policy_net.pth.tar') \n",
    "  policy_net.load_state_dict(policy_checkpoint['model_state_dict'])\n",
    "  optimizer.load_state_dict(policy_checkpoint['optimizer_state_dict'])\n",
    "  TD_Loss = policy_checkpoint['loss']\n",
    "\n",
    "replay_buffer_size = 100000000\n",
    "replay_buffer = ReplayBuffer(replay_buffer_size) #Initialize Replay Buffer\n",
    "\n",
    "num_frames  = 1000 #Change as per storage capacity\n",
    "rewards     = []\n",
    "loss = []\n",
    "batch_size  = 32\n",
    "gamma = 0.99\n",
    "\n",
    "episode_reward = 0\n",
    "\n",
    "epsilon_start = 0.1 #CHANGE THESE!!\n",
    "epsilon_final = 0.1\n",
    "epsilon_decay = 30000\n",
    "epsilon_by_frame = lambda frame_idx: epsilon_final + (epsilon_start - epsilon_final) * math.exp(-1. * frame_idx / epsilon_decay)\n",
    "\n",
    "print('Training Started...')\n",
    "print('-'*100)\n",
    "state = env.reset()\n",
    "\n",
    "for frame_idx in range(1, num_frames + 1):\n",
    "  epsilon = epsilon_by_frame(frame_idx)\n",
    "  prev_state = None\n",
    "  imsave(drive_name+'/'+str(frame_idx)+'.png', state)\n",
    "  # files.download(drive_name+'/'+str(frame_idx)+'.png')\n",
    "  # plt.figure()\n",
    "  # plt.imshow(state) #Plot frames from the game screen\n",
    "  state = preprocess(state) #Process the current state as input image\n",
    "  if prev_state is None:\n",
    "    prev_state = np.zeros(state_dim)\n",
    "  prev_state = state\n",
    "  action = policy_net.act(state, epsilon)\n",
    "  next_state,reward,done,_ = env.step(action) #Execute action and observe next_state,reward\n",
    "  n_state = preprocess(next_state) #Porcess next_state as image\n",
    "  \n",
    "  replay_buffer.push(state,action,reward,n_state,done) #Push values to buffer\n",
    "  state = next_state \n",
    "  episode_reward += reward #Increment reward\n",
    "  frame_idx += 1\n",
    "\n",
    "  if (frame_idx%1000)==0:\n",
    "    print('Frame-', str(frame_idx), '/', str(num_frames), '| Avg Reward-', avg_reward, '| Loss-', TD_Loss)\n",
    "    torch.save({'model_state_dict': policy_net.state_dict(), 'optimizer_state_dict': optimizer.state_dict(), 'loss': TD_Loss},checkpoint_name+'/policy_net.pth.tar') #save PolicyNet\n",
    "\n",
    "  data = {}\n",
    "  data['reward'] = rewards\n",
    "  data['loss'] = loss\n",
    "  # with open(checkpoint_name+'/data-300000.json', 'w') as f: #data+same as frame folder\n",
    "  #   json.dump(data, f)\n",
    "\n",
    "  if done:\n",
    "      state = env.reset()\n",
    "      episode_reward = 0\n",
    "      \n",
    "  if len(replay_buffer) > batch_size:\n",
    "      TD_Loss = compute_td_loss(batch_size)\n",
    "      \n",
    "  rewards.append(episode_reward) #Store rewards\n",
    "  if len(rewards)>=10:\n",
    "    avg_reward = sum(rewards[-10:])/10\n",
    "  if (TD_Loss != None):\n",
    "    loss.append(TD_Loss)\n",
    "\n",
    "print('-'*100)\n",
    "print('Training Completed')\n"
   ]
  },
  {
   "cell_type": "markdown",
   "metadata": {
    "colab_type": "text",
    "id": "kEgmSGoF4MGI"
   },
   "source": [
    "### 8. Plot Results"
   ]
  },
  {
   "cell_type": "code",
   "execution_count": 0,
   "metadata": {
    "colab": {
     "base_uri": "https://localhost:8080/",
     "height": 809
    },
    "colab_type": "code",
    "id": "rFdh9JBM4MxX",
    "outputId": "6d5140e7-77e0-4057-a3a6-f4ac5f6f772a"
   },
   "outputs": [
    {
     "data": {
      "image/png": "[encoded data removed]",
      "text/plain": [
       "<Figure size 432x288 with 1 Axes>"
      ]
     },
     "metadata": {
      "tags": []
     },
     "output_type": "display_data"
    },
    {
     "data": {
      "image/png": "[encoded data removed]",
      "text/plain": [
       "<Figure size 432x288 with 1 Axes>"
      ]
     },
     "metadata": {
      "tags": []
     },
     "output_type": "display_data"
    },
    {
     "data": {
      "image/png": "[encoded data removed]",
      "text/plain": [
       "<Figure size 432x288 with 1 Axes>"
      ]
     },
     "metadata": {
      "tags": []
     },
     "output_type": "display_data"
    }
   ],
   "source": [
    "def plot(roll_avg_rewards, rewards, loss): #Plot rewards over episodes\n",
    "    # # Plot Average Reward\n",
    "    plt.figure()\n",
    "    plt.title('avg reward: %s' % (roll_avg_rewards[-1]))\n",
    "    plt.plot(roll_avg_rewards)\n",
    "    plt.show()\n",
    "    # Plot Average Reward\n",
    "    plt.figure()\n",
    "    plt.title('reward: %s' % (rewards[-1]))\n",
    "    plt.plot(rewards)\n",
    "    plt.show()\n",
    "    # Plot Average Reward\n",
    "    plt.figure()\n",
    "    plt.title('loss: %s' % (loss[-1]))\n",
    "    plt.plot(loss)\n",
    "    plt.show()\n",
    "\n",
    "plot(roll_avg_rewards, rewards, loss)"
   ]
  },
  {
   "cell_type": "markdown",
   "metadata": {
    "colab_type": "text",
    "id": "7hHqgKI_1R6b"
   },
   "source": [
    "### 9. Useful Resources\n",
    "\n",
    "1. DDPG Paper- https://arxiv.org/abs/1509.02971\n",
    "2. Q-Learning Paper- https://web.stanford.edu/class/psych209/Readings/MnihEtAlHassibis15NatureControlDeepRL.pdf\n",
    "3. Coursera- https://www.coursera.org/specializations/reinforcement-learning\n",
    "4. Policy Gradient Paper- http://proceedings.mlr.press/v32/silver14.pdf\n",
    "5. TowardsDataScience- https://towardsdatascience.com/deep-deterministic-policy-gradients-explained-2d94655a9b7b\n",
    "6. RL-Adventure (one of my favourite Github repositories)- https://github.com/higgsfield/RL-Adventure-2\n"
   ]
  },
  {
   "cell_type": "code",
   "execution_count": 0,
   "metadata": {
    "colab": {},
    "colab_type": "code",
    "id": "vLNzvpqFvy30"
   },
   "outputs": [],
   "source": []
  }
 ],
 "metadata": {
  "accelerator": "TPU",
  "colab": {
   "collapsed_sections": [],
   "machine_shape": "hm",
   "name": "DQN-CapsNet.ipynb",
   "provenance": []
  },
  "kernelspec": {
   "display_name": "Python 3",
   "language": "python",
   "name": "python3"
  },
  "language_info": {
   "codemirror_mode": {
    "name": "ipython",
    "version": 3
   },
   "file_extension": ".py",
   "mimetype": "text/x-python",
   "name": "python",
   "nbconvert_exporter": "python",
   "pygments_lexer": "ipython3",
   "version": "3.7.3"
  }
 },
 "nbformat": 4,
 "nbformat_minor": 1
}
